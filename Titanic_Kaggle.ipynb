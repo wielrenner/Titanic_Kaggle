{
 "cells": [
  {
   "cell_type": "code",
   "execution_count": 1,
   "metadata": {},
   "outputs": [],
   "source": [
    "import pandas as pd\n",
    "from sklearn.preprocessing import LabelEncoder, OneHotEncoder\n",
    "import numpy as np"
   ]
  },
  {
   "cell_type": "code",
   "execution_count": 2,
   "metadata": {},
   "outputs": [],
   "source": [
    "train = pd.read_csv('train.csv')\n",
    "test = pd.read_csv('test.csv')"
   ]
  },
  {
   "cell_type": "code",
   "execution_count": 3,
   "metadata": {},
   "outputs": [],
   "source": [
    "train.drop(['PassengerId', 'Ticket'], axis=1, inplace=True)\n",
    "test.drop(['PassengerId', 'Ticket'], axis=1, inplace=True)"
   ]
  },
  {
   "cell_type": "code",
   "execution_count": 4,
   "metadata": {},
   "outputs": [
    {
     "data": {
      "text/html": [
       "<div>\n",
       "<style scoped>\n",
       "    .dataframe tbody tr th:only-of-type {\n",
       "        vertical-align: middle;\n",
       "    }\n",
       "\n",
       "    .dataframe tbody tr th {\n",
       "        vertical-align: top;\n",
       "    }\n",
       "\n",
       "    .dataframe thead th {\n",
       "        text-align: right;\n",
       "    }\n",
       "</style>\n",
       "<table border=\"1\" class=\"dataframe\">\n",
       "  <thead>\n",
       "    <tr style=\"text-align: right;\">\n",
       "      <th></th>\n",
       "      <th>Survived</th>\n",
       "      <th>Pclass</th>\n",
       "      <th>Name</th>\n",
       "      <th>Sex</th>\n",
       "      <th>Age</th>\n",
       "      <th>SibSp</th>\n",
       "      <th>Parch</th>\n",
       "      <th>Fare</th>\n",
       "      <th>Cabin</th>\n",
       "      <th>Embarked</th>\n",
       "    </tr>\n",
       "  </thead>\n",
       "  <tbody>\n",
       "    <tr>\n",
       "      <th>0</th>\n",
       "      <td>0</td>\n",
       "      <td>3</td>\n",
       "      <td>Braund, Mr. Owen Harris</td>\n",
       "      <td>male</td>\n",
       "      <td>22.0</td>\n",
       "      <td>1</td>\n",
       "      <td>0</td>\n",
       "      <td>7.2500</td>\n",
       "      <td>NaN</td>\n",
       "      <td>S</td>\n",
       "    </tr>\n",
       "    <tr>\n",
       "      <th>1</th>\n",
       "      <td>1</td>\n",
       "      <td>1</td>\n",
       "      <td>Cumings, Mrs. John Bradley (Florence Briggs Th...</td>\n",
       "      <td>female</td>\n",
       "      <td>38.0</td>\n",
       "      <td>1</td>\n",
       "      <td>0</td>\n",
       "      <td>71.2833</td>\n",
       "      <td>C85</td>\n",
       "      <td>C</td>\n",
       "    </tr>\n",
       "    <tr>\n",
       "      <th>2</th>\n",
       "      <td>1</td>\n",
       "      <td>3</td>\n",
       "      <td>Heikkinen, Miss. Laina</td>\n",
       "      <td>female</td>\n",
       "      <td>26.0</td>\n",
       "      <td>0</td>\n",
       "      <td>0</td>\n",
       "      <td>7.9250</td>\n",
       "      <td>NaN</td>\n",
       "      <td>S</td>\n",
       "    </tr>\n",
       "    <tr>\n",
       "      <th>3</th>\n",
       "      <td>1</td>\n",
       "      <td>1</td>\n",
       "      <td>Futrelle, Mrs. Jacques Heath (Lily May Peel)</td>\n",
       "      <td>female</td>\n",
       "      <td>35.0</td>\n",
       "      <td>1</td>\n",
       "      <td>0</td>\n",
       "      <td>53.1000</td>\n",
       "      <td>C123</td>\n",
       "      <td>S</td>\n",
       "    </tr>\n",
       "    <tr>\n",
       "      <th>4</th>\n",
       "      <td>0</td>\n",
       "      <td>3</td>\n",
       "      <td>Allen, Mr. William Henry</td>\n",
       "      <td>male</td>\n",
       "      <td>35.0</td>\n",
       "      <td>0</td>\n",
       "      <td>0</td>\n",
       "      <td>8.0500</td>\n",
       "      <td>NaN</td>\n",
       "      <td>S</td>\n",
       "    </tr>\n",
       "  </tbody>\n",
       "</table>\n",
       "</div>"
      ],
      "text/plain": [
       "   Survived  Pclass                                               Name  \\\n",
       "0         0       3                            Braund, Mr. Owen Harris   \n",
       "1         1       1  Cumings, Mrs. John Bradley (Florence Briggs Th...   \n",
       "2         1       3                             Heikkinen, Miss. Laina   \n",
       "3         1       1       Futrelle, Mrs. Jacques Heath (Lily May Peel)   \n",
       "4         0       3                           Allen, Mr. William Henry   \n",
       "\n",
       "      Sex   Age  SibSp  Parch     Fare Cabin Embarked  \n",
       "0    male  22.0      1      0   7.2500   NaN        S  \n",
       "1  female  38.0      1      0  71.2833   C85        C  \n",
       "2  female  26.0      0      0   7.9250   NaN        S  \n",
       "3  female  35.0      1      0  53.1000  C123        S  \n",
       "4    male  35.0      0      0   8.0500   NaN        S  "
      ]
     },
     "execution_count": 4,
     "metadata": {},
     "output_type": "execute_result"
    }
   ],
   "source": [
    "train.head()"
   ]
  },
  {
   "cell_type": "code",
   "execution_count": 5,
   "metadata": {},
   "outputs": [
    {
     "data": {
      "text/html": [
       "<div>\n",
       "<style scoped>\n",
       "    .dataframe tbody tr th:only-of-type {\n",
       "        vertical-align: middle;\n",
       "    }\n",
       "\n",
       "    .dataframe tbody tr th {\n",
       "        vertical-align: top;\n",
       "    }\n",
       "\n",
       "    .dataframe thead th {\n",
       "        text-align: right;\n",
       "    }\n",
       "</style>\n",
       "<table border=\"1\" class=\"dataframe\">\n",
       "  <thead>\n",
       "    <tr style=\"text-align: right;\">\n",
       "      <th></th>\n",
       "      <th>Survived</th>\n",
       "      <th>Pclass</th>\n",
       "      <th>Age</th>\n",
       "      <th>SibSp</th>\n",
       "      <th>Parch</th>\n",
       "      <th>Fare</th>\n",
       "    </tr>\n",
       "  </thead>\n",
       "  <tbody>\n",
       "    <tr>\n",
       "      <th>count</th>\n",
       "      <td>891.000000</td>\n",
       "      <td>891.000000</td>\n",
       "      <td>714.000000</td>\n",
       "      <td>891.000000</td>\n",
       "      <td>891.000000</td>\n",
       "      <td>891.000000</td>\n",
       "    </tr>\n",
       "    <tr>\n",
       "      <th>mean</th>\n",
       "      <td>0.383838</td>\n",
       "      <td>2.308642</td>\n",
       "      <td>29.699118</td>\n",
       "      <td>0.523008</td>\n",
       "      <td>0.381594</td>\n",
       "      <td>32.204208</td>\n",
       "    </tr>\n",
       "    <tr>\n",
       "      <th>std</th>\n",
       "      <td>0.486592</td>\n",
       "      <td>0.836071</td>\n",
       "      <td>14.526497</td>\n",
       "      <td>1.102743</td>\n",
       "      <td>0.806057</td>\n",
       "      <td>49.693429</td>\n",
       "    </tr>\n",
       "    <tr>\n",
       "      <th>min</th>\n",
       "      <td>0.000000</td>\n",
       "      <td>1.000000</td>\n",
       "      <td>0.420000</td>\n",
       "      <td>0.000000</td>\n",
       "      <td>0.000000</td>\n",
       "      <td>0.000000</td>\n",
       "    </tr>\n",
       "    <tr>\n",
       "      <th>25%</th>\n",
       "      <td>0.000000</td>\n",
       "      <td>2.000000</td>\n",
       "      <td>20.125000</td>\n",
       "      <td>0.000000</td>\n",
       "      <td>0.000000</td>\n",
       "      <td>7.910400</td>\n",
       "    </tr>\n",
       "    <tr>\n",
       "      <th>50%</th>\n",
       "      <td>0.000000</td>\n",
       "      <td>3.000000</td>\n",
       "      <td>28.000000</td>\n",
       "      <td>0.000000</td>\n",
       "      <td>0.000000</td>\n",
       "      <td>14.454200</td>\n",
       "    </tr>\n",
       "    <tr>\n",
       "      <th>75%</th>\n",
       "      <td>1.000000</td>\n",
       "      <td>3.000000</td>\n",
       "      <td>38.000000</td>\n",
       "      <td>1.000000</td>\n",
       "      <td>0.000000</td>\n",
       "      <td>31.000000</td>\n",
       "    </tr>\n",
       "    <tr>\n",
       "      <th>max</th>\n",
       "      <td>1.000000</td>\n",
       "      <td>3.000000</td>\n",
       "      <td>80.000000</td>\n",
       "      <td>8.000000</td>\n",
       "      <td>6.000000</td>\n",
       "      <td>512.329200</td>\n",
       "    </tr>\n",
       "  </tbody>\n",
       "</table>\n",
       "</div>"
      ],
      "text/plain": [
       "         Survived      Pclass         Age       SibSp       Parch        Fare\n",
       "count  891.000000  891.000000  714.000000  891.000000  891.000000  891.000000\n",
       "mean     0.383838    2.308642   29.699118    0.523008    0.381594   32.204208\n",
       "std      0.486592    0.836071   14.526497    1.102743    0.806057   49.693429\n",
       "min      0.000000    1.000000    0.420000    0.000000    0.000000    0.000000\n",
       "25%      0.000000    2.000000   20.125000    0.000000    0.000000    7.910400\n",
       "50%      0.000000    3.000000   28.000000    0.000000    0.000000   14.454200\n",
       "75%      1.000000    3.000000   38.000000    1.000000    0.000000   31.000000\n",
       "max      1.000000    3.000000   80.000000    8.000000    6.000000  512.329200"
      ]
     },
     "execution_count": 5,
     "metadata": {},
     "output_type": "execute_result"
    }
   ],
   "source": [
    "train.describe()"
   ]
  },
  {
   "cell_type": "code",
   "execution_count": 6,
   "metadata": {},
   "outputs": [
    {
     "data": {
      "text/html": [
       "<div>\n",
       "<style scoped>\n",
       "    .dataframe tbody tr th:only-of-type {\n",
       "        vertical-align: middle;\n",
       "    }\n",
       "\n",
       "    .dataframe tbody tr th {\n",
       "        vertical-align: top;\n",
       "    }\n",
       "\n",
       "    .dataframe thead th {\n",
       "        text-align: right;\n",
       "    }\n",
       "</style>\n",
       "<table border=\"1\" class=\"dataframe\">\n",
       "  <thead>\n",
       "    <tr style=\"text-align: right;\">\n",
       "      <th></th>\n",
       "      <th>Pclass</th>\n",
       "      <th>Age</th>\n",
       "      <th>SibSp</th>\n",
       "      <th>Parch</th>\n",
       "      <th>Fare</th>\n",
       "    </tr>\n",
       "  </thead>\n",
       "  <tbody>\n",
       "    <tr>\n",
       "      <th>count</th>\n",
       "      <td>418.000000</td>\n",
       "      <td>332.000000</td>\n",
       "      <td>418.000000</td>\n",
       "      <td>418.000000</td>\n",
       "      <td>417.000000</td>\n",
       "    </tr>\n",
       "    <tr>\n",
       "      <th>mean</th>\n",
       "      <td>2.265550</td>\n",
       "      <td>30.272590</td>\n",
       "      <td>0.447368</td>\n",
       "      <td>0.392344</td>\n",
       "      <td>35.627188</td>\n",
       "    </tr>\n",
       "    <tr>\n",
       "      <th>std</th>\n",
       "      <td>0.841838</td>\n",
       "      <td>14.181209</td>\n",
       "      <td>0.896760</td>\n",
       "      <td>0.981429</td>\n",
       "      <td>55.907576</td>\n",
       "    </tr>\n",
       "    <tr>\n",
       "      <th>min</th>\n",
       "      <td>1.000000</td>\n",
       "      <td>0.170000</td>\n",
       "      <td>0.000000</td>\n",
       "      <td>0.000000</td>\n",
       "      <td>0.000000</td>\n",
       "    </tr>\n",
       "    <tr>\n",
       "      <th>25%</th>\n",
       "      <td>1.000000</td>\n",
       "      <td>21.000000</td>\n",
       "      <td>0.000000</td>\n",
       "      <td>0.000000</td>\n",
       "      <td>7.895800</td>\n",
       "    </tr>\n",
       "    <tr>\n",
       "      <th>50%</th>\n",
       "      <td>3.000000</td>\n",
       "      <td>27.000000</td>\n",
       "      <td>0.000000</td>\n",
       "      <td>0.000000</td>\n",
       "      <td>14.454200</td>\n",
       "    </tr>\n",
       "    <tr>\n",
       "      <th>75%</th>\n",
       "      <td>3.000000</td>\n",
       "      <td>39.000000</td>\n",
       "      <td>1.000000</td>\n",
       "      <td>0.000000</td>\n",
       "      <td>31.500000</td>\n",
       "    </tr>\n",
       "    <tr>\n",
       "      <th>max</th>\n",
       "      <td>3.000000</td>\n",
       "      <td>76.000000</td>\n",
       "      <td>8.000000</td>\n",
       "      <td>9.000000</td>\n",
       "      <td>512.329200</td>\n",
       "    </tr>\n",
       "  </tbody>\n",
       "</table>\n",
       "</div>"
      ],
      "text/plain": [
       "           Pclass         Age       SibSp       Parch        Fare\n",
       "count  418.000000  332.000000  418.000000  418.000000  417.000000\n",
       "mean     2.265550   30.272590    0.447368    0.392344   35.627188\n",
       "std      0.841838   14.181209    0.896760    0.981429   55.907576\n",
       "min      1.000000    0.170000    0.000000    0.000000    0.000000\n",
       "25%      1.000000   21.000000    0.000000    0.000000    7.895800\n",
       "50%      3.000000   27.000000    0.000000    0.000000   14.454200\n",
       "75%      3.000000   39.000000    1.000000    0.000000   31.500000\n",
       "max      3.000000   76.000000    8.000000    9.000000  512.329200"
      ]
     },
     "execution_count": 6,
     "metadata": {},
     "output_type": "execute_result"
    }
   ],
   "source": [
    "test.describe()"
   ]
  },
  {
   "cell_type": "code",
   "execution_count": 7,
   "metadata": {},
   "outputs": [],
   "source": [
    "train['Age'].fillna(train['Age'].mean(), inplace=True)\n",
    "test['Age'].fillna(test['Age'].mean(), inplace=True)\n",
    "test['Fare'].fillna(test['Fare'].mean(), inplace=True)"
   ]
  },
  {
   "cell_type": "code",
   "execution_count": 8,
   "metadata": {},
   "outputs": [
    {
     "data": {
      "text/plain": [
       "array([1, 2, 3], dtype=int64)"
      ]
     },
     "execution_count": 8,
     "metadata": {},
     "output_type": "execute_result"
    }
   ],
   "source": [
    "enc_label = LabelEncoder()\n",
    "label_encoded = enc_label.fit_transform(train['Pclass'])\n",
    "enc_onehot = OneHotEncoder(sparse=False)\n",
    "hot_encoded = enc_onehot.fit_transform(label_encoded.reshape(-1, 1))\n",
    "enc_label.classes_"
   ]
  },
  {
   "cell_type": "code",
   "execution_count": 9,
   "metadata": {},
   "outputs": [],
   "source": [
    "train.drop(['Pclass'], axis=1, inplace=True)\n",
    "train['Class1'] = hot_encoded[:,0]\n",
    "train['Class2'] = hot_encoded[:,1]\n",
    "train['Class3'] = hot_encoded[:,2]"
   ]
  },
  {
   "cell_type": "code",
   "execution_count": 10,
   "metadata": {},
   "outputs": [
    {
     "data": {
      "text/plain": [
       "array([1, 2, 3], dtype=int64)"
      ]
     },
     "execution_count": 10,
     "metadata": {},
     "output_type": "execute_result"
    }
   ],
   "source": [
    "enc_label = LabelEncoder()\n",
    "label_encoded = enc_label.fit_transform(test['Pclass'])\n",
    "enc_onehot = OneHotEncoder(sparse=False)\n",
    "hot_encoded = enc_onehot.fit_transform(label_encoded.reshape(-1, 1))\n",
    "enc_label.classes_"
   ]
  },
  {
   "cell_type": "code",
   "execution_count": 11,
   "metadata": {},
   "outputs": [],
   "source": [
    "test.drop(['Pclass'], axis=1, inplace=True)\n",
    "test['Class1'] = hot_encoded[:,0]\n",
    "test['Class2'] = hot_encoded[:,1]\n",
    "test['Class3'] = hot_encoded[:,2]"
   ]
  },
  {
   "cell_type": "code",
   "execution_count": 12,
   "metadata": {},
   "outputs": [],
   "source": [
    "enc_label = LabelEncoder()\n",
    "label_encoded = enc_label.fit_transform(train['Sex'])\n",
    "train['Sex'] = label_encoded"
   ]
  },
  {
   "cell_type": "code",
   "execution_count": 13,
   "metadata": {},
   "outputs": [],
   "source": [
    "enc_label = LabelEncoder()\n",
    "label_encoded = enc_label.fit_transform(test['Sex'])\n",
    "test['Sex'] = label_encoded"
   ]
  },
  {
   "cell_type": "code",
   "execution_count": 14,
   "metadata": {},
   "outputs": [
    {
     "data": {
      "text/plain": [
       "array([0, 1, 2, 3, 4, 5, 8], dtype=int64)"
      ]
     },
     "execution_count": 14,
     "metadata": {},
     "output_type": "execute_result"
    }
   ],
   "source": [
    "enc_label = LabelEncoder()\n",
    "label_encoded = enc_label.fit_transform(train['SibSp'])\n",
    "enc_onehot = OneHotEncoder(sparse=False)\n",
    "hot_encoded = enc_onehot.fit_transform(label_encoded.reshape(-1, 1))\n",
    "enc_label.classes_"
   ]
  },
  {
   "cell_type": "code",
   "execution_count": 15,
   "metadata": {},
   "outputs": [],
   "source": [
    "train.drop(['SibSp'], axis=1, inplace=True)\n",
    "train['Sib0'] = hot_encoded[:,0]\n",
    "train['Sib1'] = hot_encoded[:,1]\n",
    "train['Sib2'] = hot_encoded[:,2]\n",
    "train['Sib3'] = hot_encoded[:,3]\n",
    "train['Sib4'] = hot_encoded[:,4]\n",
    "train['Sib5'] = hot_encoded[:,5]\n",
    "train['Sib8'] = hot_encoded[:,6]"
   ]
  },
  {
   "cell_type": "code",
   "execution_count": 16,
   "metadata": {},
   "outputs": [
    {
     "data": {
      "text/plain": [
       "array([0, 1, 2, 3, 4, 5, 8], dtype=int64)"
      ]
     },
     "execution_count": 16,
     "metadata": {},
     "output_type": "execute_result"
    }
   ],
   "source": [
    "enc_label = LabelEncoder()\n",
    "label_encoded = enc_label.fit_transform(test['SibSp'])\n",
    "enc_onehot = OneHotEncoder(sparse=False)\n",
    "hot_encoded = enc_onehot.fit_transform(label_encoded.reshape(-1, 1))\n",
    "enc_label.classes_"
   ]
  },
  {
   "cell_type": "code",
   "execution_count": 17,
   "metadata": {},
   "outputs": [],
   "source": [
    "test.drop(['SibSp'], axis=1, inplace=True)\n",
    "test['Sib0'] = hot_encoded[:,0]\n",
    "test['Sib1'] = hot_encoded[:,1]\n",
    "test['Sib2'] = hot_encoded[:,2]\n",
    "test['Sib3'] = hot_encoded[:,3]\n",
    "test['Sib4'] = hot_encoded[:,4]\n",
    "test['Sib5'] = hot_encoded[:,5]\n",
    "test['Sib8'] = hot_encoded[:,6]"
   ]
  },
  {
   "cell_type": "code",
   "execution_count": 18,
   "metadata": {},
   "outputs": [
    {
     "data": {
      "text/plain": [
       "array([0, 1, 2, 3, 4, 5, 6], dtype=int64)"
      ]
     },
     "execution_count": 18,
     "metadata": {},
     "output_type": "execute_result"
    }
   ],
   "source": [
    "enc_label = LabelEncoder()\n",
    "label_encoded = enc_label.fit_transform(train['Parch'])\n",
    "enc_onehot = OneHotEncoder(sparse=False)\n",
    "hot_encoded = enc_onehot.fit_transform(label_encoded.reshape(-1, 1))\n",
    "enc_label.classes_"
   ]
  },
  {
   "cell_type": "code",
   "execution_count": 19,
   "metadata": {},
   "outputs": [],
   "source": [
    "train.drop(['Parch'], axis=1, inplace=True)\n",
    "train['Parch0'] = hot_encoded[:,0]\n",
    "train['Parch1'] = hot_encoded[:,1]\n",
    "train['Parch2'] = hot_encoded[:,2]\n",
    "train['Parch3'] = hot_encoded[:,3]\n",
    "train['Parch4'] = hot_encoded[:,4]\n",
    "train['Parch5'] = hot_encoded[:,5]\n",
    "train['Parch6'] = hot_encoded[:,6]\n",
    "train['Parch9'] = np.zeros(len(train))"
   ]
  },
  {
   "cell_type": "code",
   "execution_count": 20,
   "metadata": {},
   "outputs": [
    {
     "data": {
      "text/plain": [
       "array([0, 1, 2, 3, 4, 5, 6, 9], dtype=int64)"
      ]
     },
     "execution_count": 20,
     "metadata": {},
     "output_type": "execute_result"
    }
   ],
   "source": [
    "enc_label = LabelEncoder()\n",
    "label_encoded = enc_label.fit_transform(test['Parch'])\n",
    "enc_onehot = OneHotEncoder(sparse=False)\n",
    "hot_encoded = enc_onehot.fit_transform(label_encoded.reshape(-1, 1))\n",
    "enc_label.classes_"
   ]
  },
  {
   "cell_type": "code",
   "execution_count": 21,
   "metadata": {},
   "outputs": [],
   "source": [
    "test.drop(['Parch'], axis=1, inplace=True)\n",
    "test['Parch0'] = hot_encoded[:,0]\n",
    "test['Parch1'] = hot_encoded[:,1]\n",
    "test['Parch2'] = hot_encoded[:,2]\n",
    "test['Parch3'] = hot_encoded[:,3]\n",
    "test['Parch4'] = hot_encoded[:,4]\n",
    "test['Parch5'] = hot_encoded[:,5]\n",
    "test['Parch6'] = hot_encoded[:,6]\n",
    "test['Parch9'] = hot_encoded[:,7]"
   ]
  },
  {
   "cell_type": "code",
   "execution_count": 22,
   "metadata": {},
   "outputs": [
    {
     "data": {
      "text/plain": [
       "array(['C', 'Q', 'S'], dtype=object)"
      ]
     },
     "execution_count": 22,
     "metadata": {},
     "output_type": "execute_result"
    }
   ],
   "source": [
    "train['Embarked'].fillna(train['Embarked'].value_counts().index[0], inplace=True)\n",
    "enc_label = LabelEncoder()\n",
    "label_encoded = enc_label.fit_transform(train['Embarked'])\n",
    "enc_onehot = OneHotEncoder(sparse=False)\n",
    "hot_encoded = enc_onehot.fit_transform(label_encoded.reshape(-1, 1))\n",
    "enc_label.classes_"
   ]
  },
  {
   "cell_type": "code",
   "execution_count": 23,
   "metadata": {},
   "outputs": [],
   "source": [
    "train.drop(['Embarked'], axis=1, inplace=True)\n",
    "train['EmbarkedC'] = hot_encoded[:,0]\n",
    "train['EmbarkedQ'] = hot_encoded[:,1]\n",
    "train['EmbarkedS'] = hot_encoded[:,2]"
   ]
  },
  {
   "cell_type": "code",
   "execution_count": 24,
   "metadata": {},
   "outputs": [
    {
     "data": {
      "text/plain": [
       "array(['C', 'Q', 'S'], dtype=object)"
      ]
     },
     "execution_count": 24,
     "metadata": {},
     "output_type": "execute_result"
    }
   ],
   "source": [
    "enc_label = LabelEncoder()\n",
    "label_encoded = enc_label.fit_transform(test['Embarked'])\n",
    "enc_onehot = OneHotEncoder(sparse=False)\n",
    "hot_encoded = enc_onehot.fit_transform(label_encoded.reshape(-1, 1))\n",
    "enc_label.classes_"
   ]
  },
  {
   "cell_type": "code",
   "execution_count": 25,
   "metadata": {},
   "outputs": [],
   "source": [
    "test.drop(['Embarked'], axis=1, inplace=True)\n",
    "test['EmbarkedC'] = hot_encoded[:,0]\n",
    "test['EmbarkedQ'] = hot_encoded[:,1]\n",
    "test['EmbarkedS'] = hot_encoded[:,2]"
   ]
  },
  {
   "cell_type": "code",
   "execution_count": 26,
   "metadata": {},
   "outputs": [
    {
     "data": {
      "text/plain": [
       "array(['A', 'B', 'C', 'D', 'E', 'F', 'G', 'T'],\n",
       "      dtype='<U1')"
      ]
     },
     "execution_count": 26,
     "metadata": {},
     "output_type": "execute_result"
    }
   ],
   "source": [
    "train['Cabin'].fillna(train['Cabin'].value_counts().index[0], inplace=True)\n",
    "cabin = []\n",
    "for i in range(len(train)):\n",
    "    cabin.append(train['Cabin'][i][:1])\n",
    "enc_label = LabelEncoder()\n",
    "label_encoded = enc_label.fit_transform(cabin)\n",
    "enc_onehot = OneHotEncoder(sparse=False)\n",
    "hot_encoded = enc_onehot.fit_transform(label_encoded.reshape(-1, 1))\n",
    "enc_label.classes_"
   ]
  },
  {
   "cell_type": "code",
   "execution_count": 27,
   "metadata": {},
   "outputs": [],
   "source": [
    "train.drop(['Cabin'], axis=1, inplace=True)\n",
    "train['CabinA'] = hot_encoded[:,0]\n",
    "train['CabinB'] = hot_encoded[:,1]\n",
    "train['CabinC'] = hot_encoded[:,2]\n",
    "train['CabinD'] = hot_encoded[:,3]\n",
    "train['CabinE'] = hot_encoded[:,4]\n",
    "train['CabinF'] = hot_encoded[:,5]\n",
    "train['CabinG'] = hot_encoded[:,6]\n",
    "train['CabinT'] = hot_encoded[:,7]"
   ]
  },
  {
   "cell_type": "code",
   "execution_count": 28,
   "metadata": {},
   "outputs": [
    {
     "data": {
      "text/plain": [
       "array(['A', 'B', 'C', 'D', 'E', 'F', 'G'],\n",
       "      dtype='<U1')"
      ]
     },
     "execution_count": 28,
     "metadata": {},
     "output_type": "execute_result"
    }
   ],
   "source": [
    "test['Cabin'].fillna(test['Cabin'].value_counts().index[0], inplace=True)\n",
    "cabin = []\n",
    "for i in range(len(test)):\n",
    "    cabin.append(test['Cabin'][i][:1])\n",
    "enc_label = LabelEncoder()\n",
    "label_encoded = enc_label.fit_transform(cabin)\n",
    "enc_onehot = OneHotEncoder(sparse=False)\n",
    "hot_encoded = enc_onehot.fit_transform(label_encoded.reshape(-1, 1))\n",
    "enc_label.classes_"
   ]
  },
  {
   "cell_type": "code",
   "execution_count": 29,
   "metadata": {},
   "outputs": [],
   "source": [
    "test.drop(['Cabin'], axis=1, inplace=True)\n",
    "test['CabinA'] = hot_encoded[:,0]\n",
    "test['CabinB'] = hot_encoded[:,1]\n",
    "test['CabinC'] = hot_encoded[:,2]\n",
    "test['CabinD'] = hot_encoded[:,3]\n",
    "test['CabinE'] = hot_encoded[:,4]\n",
    "test['CabinF'] = hot_encoded[:,5]\n",
    "test['CabinG'] = hot_encoded[:,6]\n",
    "test['CabinT'] = np.zeros(len(test))"
   ]
  },
  {
   "cell_type": "code",
   "execution_count": 30,
   "metadata": {},
   "outputs": [
    {
     "data": {
      "text/plain": [
       "array(['Capt', 'Col', 'Countess', 'Don', 'Dr', 'Jonkheer', 'Major',\n",
       "       'Master', 'Miss', 'Mlle', 'Mme', 'Mr', 'Mrs', 'Ms', 'Rev'],\n",
       "      dtype='<U8')"
      ]
     },
     "execution_count": 30,
     "metadata": {},
     "output_type": "execute_result"
    }
   ],
   "source": [
    "title = []\n",
    "for i in range(len(train)):\n",
    "    if 'Mrs' in train['Name'][i]:\n",
    "        title.append('Mrs')\n",
    "    elif 'Mr' in train['Name'][i]:\n",
    "        title.append('Mr')\n",
    "    elif 'Capt' in train['Name'][i]:\n",
    "        title.append('Capt')\n",
    "    elif 'Col' in train['Name'][i]:\n",
    "        title.append('Col')\n",
    "    elif 'Countess' in train['Name'][i]:\n",
    "        title.append('Countess')\n",
    "    elif 'Don' in train['Name'][i]:\n",
    "        title.append('Don')\n",
    "    elif 'Dr' in train['Name'][i]:\n",
    "        title.append('Dr')\n",
    "    elif 'Jonkheer' in train['Name'][i]:\n",
    "        title.append('Jonkheer')\n",
    "    elif 'Lady' in train['Name'][i]:\n",
    "        title.append('Lady')\n",
    "    elif 'Major' in train['Name'][i]:\n",
    "        title.append('Major')\n",
    "    elif 'Master' in train['Name'][i]:\n",
    "        title.append('Master')\n",
    "    elif 'Miss' in train['Name'][i]:\n",
    "        title.append('Miss')\n",
    "    elif 'Mlle' in train['Name'][i]:\n",
    "        title.append('Mlle')\n",
    "    elif 'Mme' in train['Name'][i]:\n",
    "        title.append('Mme')\n",
    "    elif 'Ms' in train['Name'][i]:\n",
    "        title.append('Ms')\n",
    "    elif 'Rev' in train['Name'][i]:\n",
    "        title.append('Rev')\n",
    "    elif 'Sir' in train['Name'][i]:\n",
    "        title.append('Sir')\n",
    "    else:\n",
    "        title.append('Unknown')\n",
    "enc_label = LabelEncoder()\n",
    "label_encoded = enc_label.fit_transform(title)\n",
    "enc_onehot = OneHotEncoder(sparse=False)\n",
    "hot_encoded = enc_onehot.fit_transform(label_encoded.reshape(-1, 1))\n",
    "enc_label.classes_"
   ]
  },
  {
   "cell_type": "code",
   "execution_count": 31,
   "metadata": {},
   "outputs": [],
   "source": [
    "train.drop(['Name'], axis=1, inplace=True)\n",
    "train['TitleCapt'] = hot_encoded[:,0]\n",
    "train['TitleCol'] = hot_encoded[:,1]\n",
    "train['TitleCountess'] = hot_encoded[:,2]\n",
    "train['TitleDon'] = hot_encoded[:,3]\n",
    "train['TitleDr'] = hot_encoded[:,4]\n",
    "train['TitleJonkheer'] = hot_encoded[:,5]\n",
    "train['TitleMajor'] = hot_encoded[:,6]\n",
    "train['TitleMaster'] = hot_encoded[:,7]\n",
    "train['TitleMiss'] = hot_encoded[:,8]\n",
    "train['TitleMlle'] = hot_encoded[:,9]\n",
    "train['TitleMme'] = hot_encoded[:,10]\n",
    "train['TitleMr'] = hot_encoded[:,11]\n",
    "train['TitleMrs'] = hot_encoded[:,12]\n",
    "train['TitleMs'] = hot_encoded[:,13]\n",
    "train['TitleRev'] = hot_encoded[:,14]"
   ]
  },
  {
   "cell_type": "code",
   "execution_count": 32,
   "metadata": {},
   "outputs": [
    {
     "data": {
      "text/plain": [
       "array(['Col', 'Don', 'Dr', 'Master', 'Miss', 'Mr', 'Mrs', 'Rev'],\n",
       "      dtype='<U6')"
      ]
     },
     "execution_count": 32,
     "metadata": {},
     "output_type": "execute_result"
    }
   ],
   "source": [
    "title = []\n",
    "for i in range(len(test)):\n",
    "    if 'Mrs' in test['Name'][i]:\n",
    "        title.append('Mrs')\n",
    "    elif 'Mr' in test['Name'][i]:\n",
    "        title.append('Mr')\n",
    "    elif 'Capt' in test['Name'][i]:\n",
    "        title.append('Capt')\n",
    "    elif 'Col' in test['Name'][i]:\n",
    "        title.append('Col')\n",
    "    elif 'Countess' in test['Name'][i]:\n",
    "        title.append('Countess')\n",
    "    elif 'Don' in test['Name'][i]:\n",
    "        title.append('Don')\n",
    "    elif 'Dr' in test['Name'][i]:\n",
    "        title.append('Dr')\n",
    "    elif 'Jonkheer' in test['Name'][i]:\n",
    "        title.append('Jonkheer')\n",
    "    elif 'Lady' in test['Name'][i]:\n",
    "        title.append('Lady')\n",
    "    elif 'Major' in test['Name'][i]:\n",
    "        title.append('Major')\n",
    "    elif 'Master' in test['Name'][i]:\n",
    "        title.append('Master')\n",
    "    elif 'Miss' in test['Name'][i]:\n",
    "        title.append('Miss')\n",
    "    elif 'Mlle' in test['Name'][i]:\n",
    "        title.append('Mlle')\n",
    "    elif 'Mme' in test['Name'][i]:\n",
    "        title.append('Mme')\n",
    "    elif 'Ms' in test['Name'][i]:\n",
    "        title.append('Ms')\n",
    "    elif 'Rev' in test['Name'][i]:\n",
    "        title.append('Rev')\n",
    "    elif 'Sir' in test['Name'][i]:\n",
    "        title.append('Sir')\n",
    "    else:\n",
    "        title.append('Unknown')\n",
    "enc_label = LabelEncoder()\n",
    "label_encoded = enc_label.fit_transform(title)\n",
    "enc_onehot = OneHotEncoder(sparse=False)\n",
    "hot_encoded = enc_onehot.fit_transform(label_encoded.reshape(-1, 1))\n",
    "enc_label.classes_"
   ]
  },
  {
   "cell_type": "code",
   "execution_count": 33,
   "metadata": {},
   "outputs": [],
   "source": [
    "test.drop(['Name'], axis=1, inplace=True)\n",
    "test['TitleCol'] = hot_encoded[:,0]\n",
    "test['TitleDon'] = hot_encoded[:,1]\n",
    "test['TitleDr'] = hot_encoded[:,2]\n",
    "test['TitleMaster'] = hot_encoded[:,3]\n",
    "test['TitleMiss'] = hot_encoded[:,4]\n",
    "test['TitleMr'] = hot_encoded[:,5]\n",
    "test['TitleMrs'] = hot_encoded[:,6]\n",
    "test['TitleRev'] = hot_encoded[:,7]\n",
    "test['TitleCapt'] = np.zeros(len(test))\n",
    "test['TitleCountess'] = np.zeros(len(test))\n",
    "test['TitleDon'] = np.zeros(len(test))\n",
    "test['TitleDr'] = np.zeros(len(test))\n",
    "test['TitleJonkheer'] = np.zeros(len(test))\n",
    "test['TitleMajor'] = np.zeros(len(test))\n",
    "test['TitleMlle'] = np.zeros(len(test))\n",
    "test['TitleMme'] = np.zeros(len(test))\n",
    "test['TitleMs'] = np.zeros(len(test))"
   ]
  },
  {
   "cell_type": "code",
   "execution_count": 34,
   "metadata": {},
   "outputs": [
    {
     "data": {
      "text/html": [
       "<div>\n",
       "<style scoped>\n",
       "    .dataframe tbody tr th:only-of-type {\n",
       "        vertical-align: middle;\n",
       "    }\n",
       "\n",
       "    .dataframe tbody tr th {\n",
       "        vertical-align: top;\n",
       "    }\n",
       "\n",
       "    .dataframe thead th {\n",
       "        text-align: right;\n",
       "    }\n",
       "</style>\n",
       "<table border=\"1\" class=\"dataframe\">\n",
       "  <thead>\n",
       "    <tr style=\"text-align: right;\">\n",
       "      <th></th>\n",
       "      <th>Survived</th>\n",
       "      <th>Sex</th>\n",
       "      <th>Age</th>\n",
       "      <th>Fare</th>\n",
       "      <th>Class1</th>\n",
       "      <th>Class2</th>\n",
       "      <th>Class3</th>\n",
       "      <th>Sib0</th>\n",
       "      <th>Sib1</th>\n",
       "      <th>Sib2</th>\n",
       "      <th>...</th>\n",
       "      <th>TitleJonkheer</th>\n",
       "      <th>TitleMajor</th>\n",
       "      <th>TitleMaster</th>\n",
       "      <th>TitleMiss</th>\n",
       "      <th>TitleMlle</th>\n",
       "      <th>TitleMme</th>\n",
       "      <th>TitleMr</th>\n",
       "      <th>TitleMrs</th>\n",
       "      <th>TitleMs</th>\n",
       "      <th>TitleRev</th>\n",
       "    </tr>\n",
       "  </thead>\n",
       "  <tbody>\n",
       "    <tr>\n",
       "      <th>0</th>\n",
       "      <td>0</td>\n",
       "      <td>1</td>\n",
       "      <td>22.0</td>\n",
       "      <td>7.2500</td>\n",
       "      <td>0.0</td>\n",
       "      <td>0.0</td>\n",
       "      <td>1.0</td>\n",
       "      <td>0.0</td>\n",
       "      <td>1.0</td>\n",
       "      <td>0.0</td>\n",
       "      <td>...</td>\n",
       "      <td>0.0</td>\n",
       "      <td>0.0</td>\n",
       "      <td>0.0</td>\n",
       "      <td>0.0</td>\n",
       "      <td>0.0</td>\n",
       "      <td>0.0</td>\n",
       "      <td>1.0</td>\n",
       "      <td>0.0</td>\n",
       "      <td>0.0</td>\n",
       "      <td>0.0</td>\n",
       "    </tr>\n",
       "    <tr>\n",
       "      <th>1</th>\n",
       "      <td>1</td>\n",
       "      <td>0</td>\n",
       "      <td>38.0</td>\n",
       "      <td>71.2833</td>\n",
       "      <td>1.0</td>\n",
       "      <td>0.0</td>\n",
       "      <td>0.0</td>\n",
       "      <td>0.0</td>\n",
       "      <td>1.0</td>\n",
       "      <td>0.0</td>\n",
       "      <td>...</td>\n",
       "      <td>0.0</td>\n",
       "      <td>0.0</td>\n",
       "      <td>0.0</td>\n",
       "      <td>0.0</td>\n",
       "      <td>0.0</td>\n",
       "      <td>0.0</td>\n",
       "      <td>0.0</td>\n",
       "      <td>1.0</td>\n",
       "      <td>0.0</td>\n",
       "      <td>0.0</td>\n",
       "    </tr>\n",
       "    <tr>\n",
       "      <th>2</th>\n",
       "      <td>1</td>\n",
       "      <td>0</td>\n",
       "      <td>26.0</td>\n",
       "      <td>7.9250</td>\n",
       "      <td>0.0</td>\n",
       "      <td>0.0</td>\n",
       "      <td>1.0</td>\n",
       "      <td>1.0</td>\n",
       "      <td>0.0</td>\n",
       "      <td>0.0</td>\n",
       "      <td>...</td>\n",
       "      <td>0.0</td>\n",
       "      <td>0.0</td>\n",
       "      <td>0.0</td>\n",
       "      <td>1.0</td>\n",
       "      <td>0.0</td>\n",
       "      <td>0.0</td>\n",
       "      <td>0.0</td>\n",
       "      <td>0.0</td>\n",
       "      <td>0.0</td>\n",
       "      <td>0.0</td>\n",
       "    </tr>\n",
       "    <tr>\n",
       "      <th>3</th>\n",
       "      <td>1</td>\n",
       "      <td>0</td>\n",
       "      <td>35.0</td>\n",
       "      <td>53.1000</td>\n",
       "      <td>1.0</td>\n",
       "      <td>0.0</td>\n",
       "      <td>0.0</td>\n",
       "      <td>0.0</td>\n",
       "      <td>1.0</td>\n",
       "      <td>0.0</td>\n",
       "      <td>...</td>\n",
       "      <td>0.0</td>\n",
       "      <td>0.0</td>\n",
       "      <td>0.0</td>\n",
       "      <td>0.0</td>\n",
       "      <td>0.0</td>\n",
       "      <td>0.0</td>\n",
       "      <td>0.0</td>\n",
       "      <td>1.0</td>\n",
       "      <td>0.0</td>\n",
       "      <td>0.0</td>\n",
       "    </tr>\n",
       "    <tr>\n",
       "      <th>4</th>\n",
       "      <td>0</td>\n",
       "      <td>1</td>\n",
       "      <td>35.0</td>\n",
       "      <td>8.0500</td>\n",
       "      <td>0.0</td>\n",
       "      <td>0.0</td>\n",
       "      <td>1.0</td>\n",
       "      <td>1.0</td>\n",
       "      <td>0.0</td>\n",
       "      <td>0.0</td>\n",
       "      <td>...</td>\n",
       "      <td>0.0</td>\n",
       "      <td>0.0</td>\n",
       "      <td>0.0</td>\n",
       "      <td>0.0</td>\n",
       "      <td>0.0</td>\n",
       "      <td>0.0</td>\n",
       "      <td>1.0</td>\n",
       "      <td>0.0</td>\n",
       "      <td>0.0</td>\n",
       "      <td>0.0</td>\n",
       "    </tr>\n",
       "  </tbody>\n",
       "</table>\n",
       "<p>5 rows × 48 columns</p>\n",
       "</div>"
      ],
      "text/plain": [
       "   Survived  Sex   Age     Fare  Class1  Class2  Class3  Sib0  Sib1  Sib2  \\\n",
       "0         0    1  22.0   7.2500     0.0     0.0     1.0   0.0   1.0   0.0   \n",
       "1         1    0  38.0  71.2833     1.0     0.0     0.0   0.0   1.0   0.0   \n",
       "2         1    0  26.0   7.9250     0.0     0.0     1.0   1.0   0.0   0.0   \n",
       "3         1    0  35.0  53.1000     1.0     0.0     0.0   0.0   1.0   0.0   \n",
       "4         0    1  35.0   8.0500     0.0     0.0     1.0   1.0   0.0   0.0   \n",
       "\n",
       "     ...     TitleJonkheer  TitleMajor  TitleMaster  TitleMiss  TitleMlle  \\\n",
       "0    ...               0.0         0.0          0.0        0.0        0.0   \n",
       "1    ...               0.0         0.0          0.0        0.0        0.0   \n",
       "2    ...               0.0         0.0          0.0        1.0        0.0   \n",
       "3    ...               0.0         0.0          0.0        0.0        0.0   \n",
       "4    ...               0.0         0.0          0.0        0.0        0.0   \n",
       "\n",
       "   TitleMme  TitleMr  TitleMrs  TitleMs  TitleRev  \n",
       "0       0.0      1.0       0.0      0.0       0.0  \n",
       "1       0.0      0.0       1.0      0.0       0.0  \n",
       "2       0.0      0.0       0.0      0.0       0.0  \n",
       "3       0.0      0.0       1.0      0.0       0.0  \n",
       "4       0.0      1.0       0.0      0.0       0.0  \n",
       "\n",
       "[5 rows x 48 columns]"
      ]
     },
     "execution_count": 34,
     "metadata": {},
     "output_type": "execute_result"
    }
   ],
   "source": [
    "train.head()"
   ]
  },
  {
   "cell_type": "code",
   "execution_count": 35,
   "metadata": {},
   "outputs": [],
   "source": [
    "from sklearn.model_selection import train_test_split\n",
    "\n",
    "x_train = train.drop(['Survived'], axis=1)\n",
    "y_train = train['Survived']\n",
    "\n",
    "x_train_train, x_valid, y_train_train, y_valid = train_test_split(x_train, y_train, test_size=0.33, random_state=42) "
   ]
  },
  {
   "cell_type": "code",
   "execution_count": 36,
   "metadata": {},
   "outputs": [
    {
     "data": {
      "text/plain": [
       "0.8203389830508474"
      ]
     },
     "execution_count": 36,
     "metadata": {},
     "output_type": "execute_result"
    }
   ],
   "source": [
    "from sklearn.linear_model import LogisticRegression\n",
    "from sklearn.metrics import accuracy_score \n",
    "\n",
    "clf = LogisticRegression()\n",
    "clf.fit(x_train_train, y_train_train)\n",
    "valid_pred = clf.predict(x_valid)\n",
    "accuracy_score(y_valid, valid_pred)"
   ]
  },
  {
   "cell_type": "code",
   "execution_count": 37,
   "metadata": {},
   "outputs": [],
   "source": [
    "clf.fit(x_train, y_train)\n",
    "test_pred = clf.predict(test)\n",
    "submission = pd.read_csv('gender_submission.csv')\n",
    "submission['Survived'] = test_pred\n",
    "submission.to_csv('submission_lr.csv', index=False)"
   ]
  },
  {
   "cell_type": "code",
   "execution_count": 38,
   "metadata": {},
   "outputs": [
    {
     "data": {
      "text/plain": [
       "0.84406779661016951"
      ]
     },
     "execution_count": 38,
     "metadata": {},
     "output_type": "execute_result"
    }
   ],
   "source": [
    "from sklearn.svm import SVC\n",
    "clf = SVC(kernel='linear', random_state=42)\n",
    "clf.fit(x_train_train, y_train_train)\n",
    "valid_pred = clf.predict(x_valid)\n",
    "accuracy_score(y_valid, valid_pred)"
   ]
  },
  {
   "cell_type": "code",
   "execution_count": 39,
   "metadata": {},
   "outputs": [],
   "source": [
    "clf.fit(x_train, y_train)\n",
    "test_pred = clf.predict(test)\n",
    "submission = pd.read_csv('gender_submission.csv')\n",
    "submission['Survived'] = test_pred\n",
    "submission.to_csv('submission_svm.csv', index=False)"
   ]
  },
  {
   "cell_type": "code",
   "execution_count": 40,
   "metadata": {},
   "outputs": [
    {
     "data": {
      "text/plain": [
       "0.76949152542372878"
      ]
     },
     "execution_count": 40,
     "metadata": {},
     "output_type": "execute_result"
    }
   ],
   "source": [
    "from sklearn.linear_model import SGDClassifier\n",
    "clf = SGDClassifier(max_iter=1000, random_state=42)\n",
    "clf.fit(x_train_train, y_train_train)\n",
    "valid_pred = clf.predict(x_valid)\n",
    "accuracy_score(y_valid, valid_pred)"
   ]
  },
  {
   "cell_type": "code",
   "execution_count": 41,
   "metadata": {},
   "outputs": [],
   "source": [
    "clf.fit(x_train, y_train)\n",
    "test_pred = clf.predict(test)\n",
    "submission = pd.read_csv('gender_submission.csv')\n",
    "submission['Survived'] = test_pred\n",
    "submission.to_csv('submission_SGD.csv', index=False)"
   ]
  },
  {
   "cell_type": "code",
   "execution_count": 42,
   "metadata": {},
   "outputs": [
    {
     "data": {
      "text/plain": [
       "0.735593220338983"
      ]
     },
     "execution_count": 42,
     "metadata": {},
     "output_type": "execute_result"
    }
   ],
   "source": [
    "from sklearn.neighbors import KNeighborsClassifier\n",
    "clf = KNeighborsClassifier(n_neighbors=25, weights='distance')\n",
    "clf.fit(x_train_train, y_train_train)\n",
    "valid_pred = clf.predict(x_valid)\n",
    "accuracy_score(y_valid, valid_pred)"
   ]
  },
  {
   "cell_type": "code",
   "execution_count": 43,
   "metadata": {},
   "outputs": [],
   "source": [
    "clf.fit(x_train, y_train)\n",
    "test_pred = clf.predict(test)\n",
    "submission = pd.read_csv('gender_submission.csv')\n",
    "submission['Survived'] = test_pred\n",
    "submission.to_csv('submission_KNN.csv', index=False)"
   ]
  },
  {
   "cell_type": "code",
   "execution_count": 44,
   "metadata": {},
   "outputs": [
    {
     "data": {
      "text/plain": [
       "0.71864406779661016"
      ]
     },
     "execution_count": 44,
     "metadata": {},
     "output_type": "execute_result"
    }
   ],
   "source": [
    "from sklearn.gaussian_process import GaussianProcessClassifier\n",
    "clf = GaussianProcessClassifier()\n",
    "clf.fit(x_train_train, y_train_train)\n",
    "valid_pred = clf.predict(x_valid)\n",
    "accuracy_score(y_valid, valid_pred)"
   ]
  },
  {
   "cell_type": "code",
   "execution_count": 45,
   "metadata": {},
   "outputs": [],
   "source": [
    "clf.fit(x_train, y_train)\n",
    "test_pred = clf.predict(test)\n",
    "submission = pd.read_csv('gender_submission.csv')\n",
    "submission['Survived'] = test_pred\n",
    "submission.to_csv('submission_GP.csv', index=False)"
   ]
  },
  {
   "cell_type": "code",
   "execution_count": 46,
   "metadata": {},
   "outputs": [
    {
     "data": {
      "text/plain": [
       "0.74237288135593216"
      ]
     },
     "execution_count": 46,
     "metadata": {},
     "output_type": "execute_result"
    }
   ],
   "source": [
    "from sklearn.tree import DecisionTreeClassifier\n",
    "clf = DecisionTreeClassifier(criterion='entropy', random_state=42, splitter='random')\n",
    "clf.fit(x_train_train, y_train_train)\n",
    "valid_pred = clf.predict(x_valid)\n",
    "accuracy_score(y_valid, valid_pred)"
   ]
  },
  {
   "cell_type": "code",
   "execution_count": 47,
   "metadata": {},
   "outputs": [],
   "source": [
    "clf.fit(x_train, y_train)\n",
    "test_pred = clf.predict(test)\n",
    "submission = pd.read_csv('gender_submission.csv')\n",
    "submission['Survived'] = test_pred\n",
    "submission.to_csv('submission_DT.csv', index=False)"
   ]
  }
 ],
 "metadata": {
  "kernelspec": {
   "display_name": "Python 3",
   "language": "python",
   "name": "python3"
  },
  "language_info": {
   "codemirror_mode": {
    "name": "ipython",
    "version": 3
   },
   "file_extension": ".py",
   "mimetype": "text/x-python",
   "name": "python",
   "nbconvert_exporter": "python",
   "pygments_lexer": "ipython3",
   "version": "3.6.3"
  }
 },
 "nbformat": 4,
 "nbformat_minor": 2
}

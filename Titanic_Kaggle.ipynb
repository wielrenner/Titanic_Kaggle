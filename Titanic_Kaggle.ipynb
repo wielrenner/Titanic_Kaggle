{
 "cells": [
  {
   "cell_type": "code",
   "execution_count": 1,
   "metadata": {},
   "outputs": [],
   "source": [
    "import pandas as pd\n",
    "from sklearn.preprocessing import LabelEncoder, OneHotEncoder\n",
    "import numpy as np\n",
    "import math\n",
    "import matplotlib.pyplot as plt\n",
    "import random"
   ]
  },
  {
   "cell_type": "code",
   "execution_count": 2,
   "metadata": {},
   "outputs": [],
   "source": [
    "train = pd.read_csv('train.csv')\n",
    "test = pd.read_csv('test.csv')"
   ]
  },
  {
   "cell_type": "code",
   "execution_count": 3,
   "metadata": {},
   "outputs": [],
   "source": [
    "train.drop(['PassengerId', 'Ticket'], axis=1, inplace=True)\n",
    "test.drop(['PassengerId', 'Ticket'], axis=1, inplace=True)"
   ]
  },
  {
   "cell_type": "code",
   "execution_count": 4,
   "metadata": {},
   "outputs": [
    {
     "data": {
      "text/html": [
       "<div>\n",
       "<style scoped>\n",
       "    .dataframe tbody tr th:only-of-type {\n",
       "        vertical-align: middle;\n",
       "    }\n",
       "\n",
       "    .dataframe tbody tr th {\n",
       "        vertical-align: top;\n",
       "    }\n",
       "\n",
       "    .dataframe thead th {\n",
       "        text-align: right;\n",
       "    }\n",
       "</style>\n",
       "<table border=\"1\" class=\"dataframe\">\n",
       "  <thead>\n",
       "    <tr style=\"text-align: right;\">\n",
       "      <th></th>\n",
       "      <th>Survived</th>\n",
       "      <th>Pclass</th>\n",
       "      <th>Name</th>\n",
       "      <th>Sex</th>\n",
       "      <th>Age</th>\n",
       "      <th>SibSp</th>\n",
       "      <th>Parch</th>\n",
       "      <th>Fare</th>\n",
       "      <th>Cabin</th>\n",
       "      <th>Embarked</th>\n",
       "    </tr>\n",
       "  </thead>\n",
       "  <tbody>\n",
       "    <tr>\n",
       "      <th>0</th>\n",
       "      <td>0</td>\n",
       "      <td>3</td>\n",
       "      <td>Braund, Mr. Owen Harris</td>\n",
       "      <td>male</td>\n",
       "      <td>22.0</td>\n",
       "      <td>1</td>\n",
       "      <td>0</td>\n",
       "      <td>7.2500</td>\n",
       "      <td>NaN</td>\n",
       "      <td>S</td>\n",
       "    </tr>\n",
       "    <tr>\n",
       "      <th>1</th>\n",
       "      <td>1</td>\n",
       "      <td>1</td>\n",
       "      <td>Cumings, Mrs. John Bradley (Florence Briggs Th...</td>\n",
       "      <td>female</td>\n",
       "      <td>38.0</td>\n",
       "      <td>1</td>\n",
       "      <td>0</td>\n",
       "      <td>71.2833</td>\n",
       "      <td>C85</td>\n",
       "      <td>C</td>\n",
       "    </tr>\n",
       "    <tr>\n",
       "      <th>2</th>\n",
       "      <td>1</td>\n",
       "      <td>3</td>\n",
       "      <td>Heikkinen, Miss. Laina</td>\n",
       "      <td>female</td>\n",
       "      <td>26.0</td>\n",
       "      <td>0</td>\n",
       "      <td>0</td>\n",
       "      <td>7.9250</td>\n",
       "      <td>NaN</td>\n",
       "      <td>S</td>\n",
       "    </tr>\n",
       "    <tr>\n",
       "      <th>3</th>\n",
       "      <td>1</td>\n",
       "      <td>1</td>\n",
       "      <td>Futrelle, Mrs. Jacques Heath (Lily May Peel)</td>\n",
       "      <td>female</td>\n",
       "      <td>35.0</td>\n",
       "      <td>1</td>\n",
       "      <td>0</td>\n",
       "      <td>53.1000</td>\n",
       "      <td>C123</td>\n",
       "      <td>S</td>\n",
       "    </tr>\n",
       "    <tr>\n",
       "      <th>4</th>\n",
       "      <td>0</td>\n",
       "      <td>3</td>\n",
       "      <td>Allen, Mr. William Henry</td>\n",
       "      <td>male</td>\n",
       "      <td>35.0</td>\n",
       "      <td>0</td>\n",
       "      <td>0</td>\n",
       "      <td>8.0500</td>\n",
       "      <td>NaN</td>\n",
       "      <td>S</td>\n",
       "    </tr>\n",
       "  </tbody>\n",
       "</table>\n",
       "</div>"
      ],
      "text/plain": [
       "   Survived  Pclass                                               Name  \\\n",
       "0         0       3                            Braund, Mr. Owen Harris   \n",
       "1         1       1  Cumings, Mrs. John Bradley (Florence Briggs Th...   \n",
       "2         1       3                             Heikkinen, Miss. Laina   \n",
       "3         1       1       Futrelle, Mrs. Jacques Heath (Lily May Peel)   \n",
       "4         0       3                           Allen, Mr. William Henry   \n",
       "\n",
       "      Sex   Age  SibSp  Parch     Fare Cabin Embarked  \n",
       "0    male  22.0      1      0   7.2500   NaN        S  \n",
       "1  female  38.0      1      0  71.2833   C85        C  \n",
       "2  female  26.0      0      0   7.9250   NaN        S  \n",
       "3  female  35.0      1      0  53.1000  C123        S  \n",
       "4    male  35.0      0      0   8.0500   NaN        S  "
      ]
     },
     "execution_count": 4,
     "metadata": {},
     "output_type": "execute_result"
    }
   ],
   "source": [
    "train.head()"
   ]
  },
  {
   "cell_type": "code",
   "execution_count": 5,
   "metadata": {},
   "outputs": [
    {
     "name": "stdout",
     "output_type": "stream",
     "text": [
      "Zero values in train name = 0\n",
      "Zero values in train sex = 0\n",
      "Zero values in train cabin = 687\n",
      "Zero values in train embarked = 2\n"
     ]
    }
   ],
   "source": [
    "print('Zero values in train name = ' + str(train['Name'].isnull().sum()))\n",
    "print('Zero values in train sex = ' + str(train['Sex'].isnull().sum()))\n",
    "print('Zero values in train cabin = ' + str(train['Cabin'].isnull().sum()))\n",
    "print('Zero values in train embarked = ' + str(train['Embarked'].isnull().sum()))"
   ]
  },
  {
   "cell_type": "code",
   "execution_count": 6,
   "metadata": {},
   "outputs": [
    {
     "data": {
      "text/html": [
       "<div>\n",
       "<style scoped>\n",
       "    .dataframe tbody tr th:only-of-type {\n",
       "        vertical-align: middle;\n",
       "    }\n",
       "\n",
       "    .dataframe tbody tr th {\n",
       "        vertical-align: top;\n",
       "    }\n",
       "\n",
       "    .dataframe thead th {\n",
       "        text-align: right;\n",
       "    }\n",
       "</style>\n",
       "<table border=\"1\" class=\"dataframe\">\n",
       "  <thead>\n",
       "    <tr style=\"text-align: right;\">\n",
       "      <th></th>\n",
       "      <th>Survived</th>\n",
       "      <th>Pclass</th>\n",
       "      <th>Age</th>\n",
       "      <th>SibSp</th>\n",
       "      <th>Parch</th>\n",
       "      <th>Fare</th>\n",
       "    </tr>\n",
       "  </thead>\n",
       "  <tbody>\n",
       "    <tr>\n",
       "      <th>count</th>\n",
       "      <td>891.000000</td>\n",
       "      <td>891.000000</td>\n",
       "      <td>714.000000</td>\n",
       "      <td>891.000000</td>\n",
       "      <td>891.000000</td>\n",
       "      <td>891.000000</td>\n",
       "    </tr>\n",
       "    <tr>\n",
       "      <th>mean</th>\n",
       "      <td>0.383838</td>\n",
       "      <td>2.308642</td>\n",
       "      <td>29.699118</td>\n",
       "      <td>0.523008</td>\n",
       "      <td>0.381594</td>\n",
       "      <td>32.204208</td>\n",
       "    </tr>\n",
       "    <tr>\n",
       "      <th>std</th>\n",
       "      <td>0.486592</td>\n",
       "      <td>0.836071</td>\n",
       "      <td>14.526497</td>\n",
       "      <td>1.102743</td>\n",
       "      <td>0.806057</td>\n",
       "      <td>49.693429</td>\n",
       "    </tr>\n",
       "    <tr>\n",
       "      <th>min</th>\n",
       "      <td>0.000000</td>\n",
       "      <td>1.000000</td>\n",
       "      <td>0.420000</td>\n",
       "      <td>0.000000</td>\n",
       "      <td>0.000000</td>\n",
       "      <td>0.000000</td>\n",
       "    </tr>\n",
       "    <tr>\n",
       "      <th>25%</th>\n",
       "      <td>0.000000</td>\n",
       "      <td>2.000000</td>\n",
       "      <td>20.125000</td>\n",
       "      <td>0.000000</td>\n",
       "      <td>0.000000</td>\n",
       "      <td>7.910400</td>\n",
       "    </tr>\n",
       "    <tr>\n",
       "      <th>50%</th>\n",
       "      <td>0.000000</td>\n",
       "      <td>3.000000</td>\n",
       "      <td>28.000000</td>\n",
       "      <td>0.000000</td>\n",
       "      <td>0.000000</td>\n",
       "      <td>14.454200</td>\n",
       "    </tr>\n",
       "    <tr>\n",
       "      <th>75%</th>\n",
       "      <td>1.000000</td>\n",
       "      <td>3.000000</td>\n",
       "      <td>38.000000</td>\n",
       "      <td>1.000000</td>\n",
       "      <td>0.000000</td>\n",
       "      <td>31.000000</td>\n",
       "    </tr>\n",
       "    <tr>\n",
       "      <th>max</th>\n",
       "      <td>1.000000</td>\n",
       "      <td>3.000000</td>\n",
       "      <td>80.000000</td>\n",
       "      <td>8.000000</td>\n",
       "      <td>6.000000</td>\n",
       "      <td>512.329200</td>\n",
       "    </tr>\n",
       "  </tbody>\n",
       "</table>\n",
       "</div>"
      ],
      "text/plain": [
       "         Survived      Pclass         Age       SibSp       Parch        Fare\n",
       "count  891.000000  891.000000  714.000000  891.000000  891.000000  891.000000\n",
       "mean     0.383838    2.308642   29.699118    0.523008    0.381594   32.204208\n",
       "std      0.486592    0.836071   14.526497    1.102743    0.806057   49.693429\n",
       "min      0.000000    1.000000    0.420000    0.000000    0.000000    0.000000\n",
       "25%      0.000000    2.000000   20.125000    0.000000    0.000000    7.910400\n",
       "50%      0.000000    3.000000   28.000000    0.000000    0.000000   14.454200\n",
       "75%      1.000000    3.000000   38.000000    1.000000    0.000000   31.000000\n",
       "max      1.000000    3.000000   80.000000    8.000000    6.000000  512.329200"
      ]
     },
     "execution_count": 6,
     "metadata": {},
     "output_type": "execute_result"
    }
   ],
   "source": [
    "train.describe()"
   ]
  },
  {
   "cell_type": "code",
   "execution_count": 7,
   "metadata": {},
   "outputs": [
    {
     "name": "stdout",
     "output_type": "stream",
     "text": [
      "Zero values in test name = 0\n",
      "Zero values in test sex = 0\n",
      "Zero values in test cabin = 327\n",
      "Zero values in test embarked = 0\n"
     ]
    }
   ],
   "source": [
    "print('Zero values in test name = ' + str(test['Name'].isnull().sum()))\n",
    "print('Zero values in test sex = ' + str(test['Sex'].isnull().sum()))\n",
    "print('Zero values in test cabin = ' + str(test['Cabin'].isnull().sum()))\n",
    "print('Zero values in test embarked = ' + str(test['Embarked'].isnull().sum()))"
   ]
  },
  {
   "cell_type": "code",
   "execution_count": 8,
   "metadata": {},
   "outputs": [
    {
     "data": {
      "text/html": [
       "<div>\n",
       "<style scoped>\n",
       "    .dataframe tbody tr th:only-of-type {\n",
       "        vertical-align: middle;\n",
       "    }\n",
       "\n",
       "    .dataframe tbody tr th {\n",
       "        vertical-align: top;\n",
       "    }\n",
       "\n",
       "    .dataframe thead th {\n",
       "        text-align: right;\n",
       "    }\n",
       "</style>\n",
       "<table border=\"1\" class=\"dataframe\">\n",
       "  <thead>\n",
       "    <tr style=\"text-align: right;\">\n",
       "      <th></th>\n",
       "      <th>Pclass</th>\n",
       "      <th>Age</th>\n",
       "      <th>SibSp</th>\n",
       "      <th>Parch</th>\n",
       "      <th>Fare</th>\n",
       "    </tr>\n",
       "  </thead>\n",
       "  <tbody>\n",
       "    <tr>\n",
       "      <th>count</th>\n",
       "      <td>418.000000</td>\n",
       "      <td>332.000000</td>\n",
       "      <td>418.000000</td>\n",
       "      <td>418.000000</td>\n",
       "      <td>417.000000</td>\n",
       "    </tr>\n",
       "    <tr>\n",
       "      <th>mean</th>\n",
       "      <td>2.265550</td>\n",
       "      <td>30.272590</td>\n",
       "      <td>0.447368</td>\n",
       "      <td>0.392344</td>\n",
       "      <td>35.627188</td>\n",
       "    </tr>\n",
       "    <tr>\n",
       "      <th>std</th>\n",
       "      <td>0.841838</td>\n",
       "      <td>14.181209</td>\n",
       "      <td>0.896760</td>\n",
       "      <td>0.981429</td>\n",
       "      <td>55.907576</td>\n",
       "    </tr>\n",
       "    <tr>\n",
       "      <th>min</th>\n",
       "      <td>1.000000</td>\n",
       "      <td>0.170000</td>\n",
       "      <td>0.000000</td>\n",
       "      <td>0.000000</td>\n",
       "      <td>0.000000</td>\n",
       "    </tr>\n",
       "    <tr>\n",
       "      <th>25%</th>\n",
       "      <td>1.000000</td>\n",
       "      <td>21.000000</td>\n",
       "      <td>0.000000</td>\n",
       "      <td>0.000000</td>\n",
       "      <td>7.895800</td>\n",
       "    </tr>\n",
       "    <tr>\n",
       "      <th>50%</th>\n",
       "      <td>3.000000</td>\n",
       "      <td>27.000000</td>\n",
       "      <td>0.000000</td>\n",
       "      <td>0.000000</td>\n",
       "      <td>14.454200</td>\n",
       "    </tr>\n",
       "    <tr>\n",
       "      <th>75%</th>\n",
       "      <td>3.000000</td>\n",
       "      <td>39.000000</td>\n",
       "      <td>1.000000</td>\n",
       "      <td>0.000000</td>\n",
       "      <td>31.500000</td>\n",
       "    </tr>\n",
       "    <tr>\n",
       "      <th>max</th>\n",
       "      <td>3.000000</td>\n",
       "      <td>76.000000</td>\n",
       "      <td>8.000000</td>\n",
       "      <td>9.000000</td>\n",
       "      <td>512.329200</td>\n",
       "    </tr>\n",
       "  </tbody>\n",
       "</table>\n",
       "</div>"
      ],
      "text/plain": [
       "           Pclass         Age       SibSp       Parch        Fare\n",
       "count  418.000000  332.000000  418.000000  418.000000  417.000000\n",
       "mean     2.265550   30.272590    0.447368    0.392344   35.627188\n",
       "std      0.841838   14.181209    0.896760    0.981429   55.907576\n",
       "min      1.000000    0.170000    0.000000    0.000000    0.000000\n",
       "25%      1.000000   21.000000    0.000000    0.000000    7.895800\n",
       "50%      3.000000   27.000000    0.000000    0.000000   14.454200\n",
       "75%      3.000000   39.000000    1.000000    0.000000   31.500000\n",
       "max      3.000000   76.000000    8.000000    9.000000  512.329200"
      ]
     },
     "execution_count": 8,
     "metadata": {},
     "output_type": "execute_result"
    }
   ],
   "source": [
    "test.describe()"
   ]
  },
  {
   "cell_type": "markdown",
   "metadata": {},
   "source": [
    "# Extract title out of name"
   ]
  },
  {
   "cell_type": "code",
   "execution_count": 9,
   "metadata": {},
   "outputs": [],
   "source": [
    "for i in range(len(train)):\n",
    "    if 'Mrs.' in train['Name'][i]:\n",
    "        train.loc[i,'Name'] = 'Mrs'\n",
    "    elif 'Sir.' in train['Name'][i]:\n",
    "        train.loc[i,'Name'] = 'Royalty'\n",
    "    elif 'Mr.' in train['Name'][i]:\n",
    "        train.loc[i,'Name'] = 'Mr'\n",
    "    elif 'Capt.' in train['Name'][i]:\n",
    "        train.loc[i,'Name'] = 'Officer'\n",
    "    elif 'Col.' in train['Name'][i]:\n",
    "        train.loc[i,'Name'] = 'Officer'\n",
    "    elif 'Countess.' in train['Name'][i]:\n",
    "        train.loc[i,'Name'] = 'Royalty'\n",
    "    elif 'Dona.' in train['Name'][i]:\n",
    "        train.loc[i,'Name'] = 'Royalty'\n",
    "    elif 'Don.' in train['Name'][i]:\n",
    "        train.loc[i,'Name'] = 'Royalty'\n",
    "    elif 'Dr.' in train['Name'][i]:\n",
    "        train.loc[i,'Name'] = 'Officer'\n",
    "    elif 'Jonkheer.' in train['Name'][i]:\n",
    "        train.loc[i,'Name'] = 'Royalty'\n",
    "    elif 'Lady.' in train['Name'][i]:\n",
    "        train.loc[i,'Name'] = 'Royalty'\n",
    "    elif 'Major.' in train['Name'][i]:\n",
    "        train.loc[i,'Name'] = 'Officer'\n",
    "    elif 'Master.' in train['Name'][i]:\n",
    "        train.loc[i,'Name'] = 'Master'\n",
    "    elif 'Mlle.' in train['Name'][i]:\n",
    "        train.loc[i,'Name'] = 'Miss'\n",
    "    elif 'Mme.' in train['Name'][i]:\n",
    "        train.loc[i,'Name'] = 'Mrs'\n",
    "    elif 'Ms.' in train['Name'][i]:\n",
    "        train.loc[i,'Name'] = 'Mrs'\n",
    "    elif 'Rev.' in train['Name'][i]:\n",
    "        train.loc[i,'Name'] = 'Officer'\n",
    "    elif 'Miss.' in train['Name'][i]:\n",
    "        train.loc[i,'Name'] = 'Miss'"
   ]
  },
  {
   "cell_type": "code",
   "execution_count": 10,
   "metadata": {},
   "outputs": [],
   "source": [
    "for i in range(len(test)):\n",
    "    if 'Mrs.' in test['Name'][i]:\n",
    "        test.loc[i,'Name'] = 'Mrs'\n",
    "    elif 'Sir.' in test['Name'][i]:\n",
    "        test.loc[i,'Name'] = 'Royalty'\n",
    "    elif 'Mr.' in test['Name'][i]:\n",
    "        test.loc[i,'Name'] = 'Mr'\n",
    "    elif 'Capt.' in test['Name'][i]:\n",
    "        test.loc[i,'Name'] = 'Officer'\n",
    "    elif 'Col.' in test['Name'][i]:\n",
    "        test.loc[i,'Name'] = 'Officer'\n",
    "    elif 'Countess.' in test['Name'][i]:\n",
    "        test.loc[i,'Name'] = 'Royalty'\n",
    "    elif 'Dona.' in test['Name'][i]:\n",
    "        test.loc[i,'Name'] = 'Royalty'\n",
    "    elif 'Don.' in test['Name'][i]:\n",
    "        test.loc[i,'Name'] = 'Royalty'\n",
    "    elif 'Dr.' in test['Name'][i]:\n",
    "        test.loc[i,'Name'] = 'Officer'\n",
    "    elif 'Jonkheer.' in test['Name'][i]:\n",
    "        test.loc[i,'Name'] = 'Royalty'\n",
    "    elif 'Lady.' in test['Name'][i]:\n",
    "        test.loc[i,'Name'] = 'Royalty'\n",
    "    elif 'Major.' in test['Name'][i]:\n",
    "        test.loc[i,'Name'] = 'Officer'\n",
    "    elif 'Master.' in test['Name'][i]:\n",
    "        test.loc[i,'Name'] = 'Master'\n",
    "    elif 'Mlle.' in test['Name'][i]:\n",
    "        test.loc[i,'Name'] = 'Miss'\n",
    "    elif 'Mme.' in test['Name'][i]:\n",
    "        test.loc[i,'Name'] = 'Mrs'\n",
    "    elif 'Ms.' in test['Name'][i]:\n",
    "        test.loc[i,'Name'] = 'Mrs'\n",
    "    elif 'Rev.' in test['Name'][i]:\n",
    "        test.loc[i,'Name'] = 'Officer'\n",
    "    elif 'Miss.' in test['Name'][i]:\n",
    "        test.loc[i,'Name'] = 'Miss'"
   ]
  },
  {
   "cell_type": "markdown",
   "metadata": {},
   "source": [
    "# Fill in the small amount of missing values for test fare and train embarked"
   ]
  },
  {
   "cell_type": "code",
   "execution_count": 11,
   "metadata": {},
   "outputs": [],
   "source": [
    "test['Fare'].fillna(test['Fare'].mean(), inplace=True)\n",
    "train['Embarked'].fillna(train['Embarked'].value_counts().index[0], inplace=True)"
   ]
  },
  {
   "cell_type": "markdown",
   "metadata": {},
   "source": [
    "# Filling in missing values for age"
   ]
  },
  {
   "cell_type": "code",
   "execution_count": 12,
   "metadata": {},
   "outputs": [
    {
     "data": {
      "text/plain": [
       "Index(['Survived', 'Pclass', 'Name', 'Sex', 'Age', 'SibSp', 'Parch', 'Fare',\n",
       "       'Cabin', 'Embarked'],\n",
       "      dtype='object')"
      ]
     },
     "execution_count": 12,
     "metadata": {},
     "output_type": "execute_result"
    }
   ],
   "source": [
    "train.columns"
   ]
  },
  {
   "cell_type": "code",
   "execution_count": 13,
   "metadata": {},
   "outputs": [
    {
     "name": "stdout",
     "output_type": "stream",
     "text": [
      "Name     Pclass  Sex   \n",
      "Master   1       male       6.0\n",
      "         2       male       2.0\n",
      "         3       male       6.0\n",
      "Miss     1       female    30.0\n",
      "         2       female    20.0\n",
      "         3       female    18.0\n",
      "Mr       1       male      41.5\n",
      "         2       male      30.0\n",
      "         3       male      26.0\n",
      "Mrs      1       female    45.0\n",
      "         2       female    30.0\n",
      "         3       female    31.0\n",
      "Officer  1       female    49.0\n",
      "                 male      52.0\n",
      "         2       male      41.5\n",
      "Royalty  1       female    39.0\n",
      "                 male      40.0\n",
      "Name: Age, dtype: float64\n"
     ]
    }
   ],
   "source": [
    "age_selection_train = train[['Age', 'SibSp', 'Parch', 'Fare', 'Pclass', 'Name', 'Sex']].dropna()\n",
    "age_selection_test = test[['Age', 'SibSp', 'Parch', 'Fare', 'Pclass', 'Name', 'Sex']].dropna()\n",
    "age_selection = age_selection_train.append(age_selection_test)\n",
    "age_selection['Fare'] = age_selection['Fare'].astype(int)\n",
    "grouped_age = age_selection.groupby(['Name','Pclass','Sex'])['Age'].median()\n",
    "print(grouped_age)"
   ]
  },
  {
   "cell_type": "code",
   "execution_count": 14,
   "metadata": {},
   "outputs": [],
   "source": [
    "for i in range(len(train)):\n",
    "    if not train['Age'][i] > 0:\n",
    "        if train.loc[i,'Name'] == 'Master':\n",
    "            if train.loc[i,'Pclass'] == 1:\n",
    "                train.loc[i,'Age'] = 6\n",
    "            elif train.loc[i,'Pclass'] == 2:\n",
    "                train.loc[i,'Age'] = 2\n",
    "            elif train.loc[i,'Pclass'] == 3:\n",
    "                train.loc[i,'Age'] = 6\n",
    "        elif train.loc[i,'Name'] == 'Miss':\n",
    "            if train.loc[i,'Pclass'] == 1:\n",
    "                train.loc[i,'Age'] = 30\n",
    "            elif train.loc[i,'Pclass'] == 2:\n",
    "                train.loc[i,'Age'] = 21\n",
    "            elif train.loc[i,'Pclass'] == 3:\n",
    "                train.loc[i,'Age'] = 19\n",
    "        elif train.loc[i,'Name'] == 'Mr':\n",
    "            if train.loc[i,'Pclass'] == 1:\n",
    "                train.loc[i,'Age'] = 40\n",
    "            elif train.loc[i,'Pclass'] == 2:\n",
    "                train.loc[i,'Age'] = 31\n",
    "            elif train.loc[i,'Pclass'] == 3:\n",
    "                train.loc[i,'Age'] = 29\n",
    "        elif train.loc[i,'Name'] == 'Mrs':\n",
    "            if train.loc[i,'Pclass'] == 1:\n",
    "                train.loc[i,'Age'] = 43\n",
    "            elif train.loc[i,'Pclass'] == 2:\n",
    "                train.loc[i,'Age'] = 31\n",
    "            elif train.loc[i,'Pclass'] == 3:\n",
    "                train.loc[i,'Age'] = 34\n",
    "        elif train.loc[i,'Name'] == 'Officer':\n",
    "            if train.loc[i,'Pclass'] == 1:\n",
    "                if train.loc[i,'Sex'] == 'female':\n",
    "                    train.loc[i,'Age'] = 49\n",
    "                elif train.loc[i,'Sex'] == 'male':\n",
    "                    train.loc[i,'Age'] = 52\n",
    "            elif train.loc[i,'Pclass'] == 2:\n",
    "                train.loc[i,'Age'] = 42\n",
    "        elif train.loc[i,'Name'] == 'Royalty':\n",
    "            if train.loc[i,'Pclass'] == 1:\n",
    "                if train.loc[i,'Sex'] == 'female':\n",
    "                    train.loc[i,'Age'] = 39\n",
    "                elif train.loc[i,'Sex'] == 'male':\n",
    "                    train.loc[i,'Age'] = 40\n",
    "for i in range(len(test)):\n",
    "    if not test['Age'][i] > 0:\n",
    "        if test.loc[i,'Name'] == 'Master':\n",
    "            if test.loc[i,'Pclass'] == 1:\n",
    "                test.loc[i,'Age'] = 6\n",
    "            elif test.loc[i,'Pclass'] == 2:\n",
    "                test.loc[i,'Age'] = 2\n",
    "            elif test.loc[i,'Pclass'] == 3:\n",
    "                test.loc[i,'Age'] = 6\n",
    "        elif test.loc[i,'Name'] == 'Miss':\n",
    "            if test.loc[i,'Pclass'] == 1:\n",
    "                test.loc[i,'Age'] = 30\n",
    "            elif test.loc[i,'Pclass'] == 2:\n",
    "                test.loc[i,'Age'] = 21\n",
    "            elif test.loc[i,'Pclass'] == 3:\n",
    "                test.loc[i,'Age'] = 19\n",
    "        elif test.loc[i,'Name'] == 'Mr':\n",
    "            if test.loc[i,'Pclass'] == 1:\n",
    "                test.loc[i,'Age'] = 40\n",
    "            elif test.loc[i,'Pclass'] == 2:\n",
    "                test.loc[i,'Age'] = 31\n",
    "            elif test.loc[i,'Pclass'] == 3:\n",
    "                test.loc[i,'Age'] = 29\n",
    "        elif test.loc[i,'Name'] == 'Mrs':\n",
    "            if test.loc[i,'Pclass'] == 1:\n",
    "                test.loc[i,'Age'] = 43\n",
    "            elif test.loc[i,'Pclass'] == 2:\n",
    "                test.loc[i,'Age'] = 31\n",
    "            elif test.loc[i,'Pclass'] == 3:\n",
    "                test.loc[i,'Age'] = 34\n",
    "        elif test.loc[i,'Name'] == 'Officer':\n",
    "            if test.loc[i,'Pclass'] == 1:\n",
    "                if test.loc[i,'Sex'] == 'female':\n",
    "                    test.loc[i,'Age'] = 49\n",
    "                elif test.loc[i,'Sex'] == 'male':\n",
    "                    test.loc[i,'Age'] = 52\n",
    "            elif test.loc[i,'Pclass'] == 2:\n",
    "                test.loc[i,'Age'] = 42\n",
    "        elif test.loc[i,'Name'] == 'Royalty':\n",
    "            if test.loc[i,'Pclass'] == 1:\n",
    "                if test.loc[i,'Sex'] == 'female':\n",
    "                    test.loc[i,'Age'] = 39\n",
    "                elif test.loc[i,'Sex'] == 'male':\n",
    "                    test.loc[i,'Age'] = 40"
   ]
  },
  {
   "cell_type": "markdown",
   "metadata": {},
   "source": [
    "# Extract cabin class out of cabin"
   ]
  },
  {
   "cell_type": "raw",
   "metadata": {},
   "source": [
    "for i in range(len(train)):\n",
    "    if type(train['Cabin'][i]) == str:\n",
    "        trimmed = train['Cabin'][i][:1]\n",
    "        train.loc[i,'Cabin'] = trimmed\n",
    "for i in range(len(test)):\n",
    "    if type(test['Cabin'][i]) == str:\n",
    "        trimmed = test['Cabin'][i][:1]\n",
    "        test.loc[i,'Cabin'] = trimmed"
   ]
  },
  {
   "cell_type": "markdown",
   "metadata": {},
   "source": [
    "# Filling in missing values for cabin"
   ]
  },
  {
   "cell_type": "raw",
   "metadata": {},
   "source": [
    "traincabin = train[['Cabin','SibSp','Parch','Age','Fare','Pclass']].dropna()\n",
    "testcabin = test[['Cabin','SibSp','Parch','Age','Fare','Pclass']].dropna()\n",
    "allcabin = traincabin.append(testcabin)\n",
    "allcabin['Fare'] = allcabin['Fare'].astype(int)\n",
    "grouped_cabin = allcabin.groupby(['Cabin'])['Pclass'].mean()\n",
    "print(grouped_cabin)"
   ]
  },
  {
   "cell_type": "raw",
   "metadata": {},
   "source": [
    "# Can be improved\n",
    "classone = ['A', 'B', 'C', 'D', 'E', 'T']\n",
    "for i in range(len(train)):\n",
    "    if not type(train['Cabin'][i]) == str:\n",
    "        if train.loc[i,'Pclass'] == 1:\n",
    "            train.loc[i,'Cabin'] = random.choice(classone)\n",
    "        elif train.loc[i,'Pclass'] == 2:\n",
    "            train.loc[i,'Cabin'] = 'F'\n",
    "        elif train.loc[i,'Pclass'] == 3:\n",
    "            train.loc[i,'Cabin'] = 'G'\n",
    "for i in range(len(test)):\n",
    "    if not type(test['Cabin'][i]) == str:\n",
    "        if test.loc[i,'Pclass'] == 1:\n",
    "            test.loc[i,'Cabin'] = random.choice(classone)\n",
    "        elif test.loc[i,'Pclass'] == 2:\n",
    "            test.loc[i,'Cabin'] = 'F'\n",
    "        elif test.loc[i,'Pclass'] == 3:\n",
    "            test.loc[i,'Cabin'] = 'G'"
   ]
  },
  {
   "cell_type": "raw",
   "metadata": {},
   "source": [
    "# Using u for unknown\n",
    "train['Cabin'].fillna('U', inplace=True)\n",
    "test['Cabin'].fillna('U', inplace=True)"
   ]
  },
  {
   "cell_type": "code",
   "execution_count": 15,
   "metadata": {},
   "outputs": [],
   "source": [
    "# To much missing values for cabin so dropping it\n",
    "train.drop(['Cabin'], axis=1, inplace=True)\n",
    "test.drop(['Cabin'], axis=1, inplace=True)"
   ]
  },
  {
   "cell_type": "markdown",
   "metadata": {},
   "source": [
    "# Visualizations"
   ]
  },
  {
   "cell_type": "code",
   "execution_count": 16,
   "metadata": {},
   "outputs": [
    {
     "data": {
      "text/plain": [
       "Index(['Survived', 'Pclass', 'Name', 'Sex', 'Age', 'SibSp', 'Parch', 'Fare',\n",
       "       'Embarked'],\n",
       "      dtype='object')"
      ]
     },
     "execution_count": 16,
     "metadata": {},
     "output_type": "execute_result"
    }
   ],
   "source": [
    "train.columns"
   ]
  },
  {
   "cell_type": "code",
   "execution_count": 17,
   "metadata": {},
   "outputs": [
    {
     "data": {
      "text/plain": [
       "<matplotlib.axes._subplots.AxesSubplot at 0x1f7433c9b38>"
      ]
     },
     "execution_count": 17,
     "metadata": {},
     "output_type": "execute_result"
    },
    {
     "data": {
      "image/png": "[encoded data removed]",
      "text/plain": [
       "<matplotlib.figure.Figure at 0x1f743163470>"
      ]
     },
     "metadata": {},
     "output_type": "display_data"
    }
   ],
   "source": [
    "import seaborn as sns\n",
    "\n",
    "sns.barplot(y=train['Survived'], x=train['Pclass'])"
   ]
  },
  {
   "cell_type": "code",
   "execution_count": 18,
   "metadata": {},
   "outputs": [
    {
     "data": {
      "text/plain": [
       "<matplotlib.axes._subplots.AxesSubplot at 0x1f7431636a0>"
      ]
     },
     "execution_count": 18,
     "metadata": {},
     "output_type": "execute_result"
    },
    {
     "data": {
      "image/png": "[encoded data removed]",
      "text/plain": [
       "<matplotlib.figure.Figure at 0x1f743442d68>"
      ]
     },
     "metadata": {},
     "output_type": "display_data"
    }
   ],
   "source": [
    "sns.barplot(y=train['Survived'], x=train['Name'])"
   ]
  },
  {
   "cell_type": "code",
   "execution_count": 19,
   "metadata": {},
   "outputs": [
    {
     "data": {
      "text/plain": [
       "<matplotlib.axes._subplots.AxesSubplot at 0x1f7437eb240>"
      ]
     },
     "execution_count": 19,
     "metadata": {},
     "output_type": "execute_result"
    },
    {
     "data": {
      "image/png": "[encoded data removed]",
      "text/plain": [
       "<matplotlib.figure.Figure at 0x1f7437d6588>"
      ]
     },
     "metadata": {},
     "output_type": "display_data"
    }
   ],
   "source": [
    "sns.barplot(y=train['Survived'], x=train['Sex'])"
   ]
  },
  {
   "cell_type": "code",
   "execution_count": 20,
   "metadata": {},
   "outputs": [
    {
     "data": {
      "text/plain": [
       "<matplotlib.axes._subplots.AxesSubplot at 0x1f74380a9e8>"
      ]
     },
     "execution_count": 20,
     "metadata": {},
     "output_type": "execute_result"
    },
    {
     "data": {
      "image/png": "[encoded data removed]",
      "text/plain": [
       "<matplotlib.figure.Figure at 0x1f743870048>"
      ]
     },
     "metadata": {},
     "output_type": "display_data"
    }
   ],
   "source": [
    "sns.barplot(x=train['Survived'], y=train['Age'])"
   ]
  },
  {
   "cell_type": "code",
   "execution_count": 21,
   "metadata": {},
   "outputs": [
    {
     "data": {
      "text/plain": [
       "<matplotlib.axes._subplots.AxesSubplot at 0x1f7438d8da0>"
      ]
     },
     "execution_count": 21,
     "metadata": {},
     "output_type": "execute_result"
    },
    {
     "data": {
      "image/png": "[encoded data removed]",
      "text/plain": [
       "<matplotlib.figure.Figure at 0x1f7438b3198>"
      ]
     },
     "metadata": {},
     "output_type": "display_data"
    }
   ],
   "source": [
    "sns.barplot(x=train['Survived'], y=train['Fare'])"
   ]
  },
  {
   "cell_type": "raw",
   "metadata": {},
   "source": [
    "sns.barplot(x=train['Survived'], y=train['Cabin'])"
   ]
  },
  {
   "cell_type": "code",
   "execution_count": 22,
   "metadata": {},
   "outputs": [
    {
     "data": {
      "text/plain": [
       "<matplotlib.axes._subplots.AxesSubplot at 0x1f743922d30>"
      ]
     },
     "execution_count": 22,
     "metadata": {},
     "output_type": "execute_result"
    },
    {
     "data": {
      "image/png": "[encoded data removed]",
      "text/plain": [
       "<matplotlib.figure.Figure at 0x1f7438d8e10>"
      ]
     },
     "metadata": {},
     "output_type": "display_data"
    }
   ],
   "source": [
    "sns.barplot(x=train['Survived'], y=train['Embarked'])"
   ]
  },
  {
   "cell_type": "code",
   "execution_count": 23,
   "metadata": {},
   "outputs": [
    {
     "data": {
      "text/plain": [
       "<matplotlib.axes._subplots.AxesSubplot at 0x1f743979320>"
      ]
     },
     "execution_count": 23,
     "metadata": {},
     "output_type": "execute_result"
    },
    {
     "data": {
      "image/png": "[encoded data removed]",
      "text/plain": [
       "<matplotlib.figure.Figure at 0x1f7438ca5f8>"
      ]
     },
     "metadata": {},
     "output_type": "display_data"
    }
   ],
   "source": [
    "sns.barplot(y=train['Survived'], x=train['SibSp'])"
   ]
  },
  {
   "cell_type": "code",
   "execution_count": 24,
   "metadata": {},
   "outputs": [
    {
     "data": {
      "text/plain": [
       "<matplotlib.axes._subplots.AxesSubplot at 0x1f743980b00>"
      ]
     },
     "execution_count": 24,
     "metadata": {},
     "output_type": "execute_result"
    },
    {
     "data": {
      "image/png": "[encoded data removed]",
      "text/plain": [
       "<matplotlib.figure.Figure at 0x1f743726cf8>"
      ]
     },
     "metadata": {},
     "output_type": "display_data"
    }
   ],
   "source": [
    "sns.barplot(y=train['Survived'], x=train['Parch'])"
   ]
  },
  {
   "cell_type": "markdown",
   "metadata": {},
   "source": [
    "# SibSp + Parch into familysize"
   ]
  },
  {
   "cell_type": "code",
   "execution_count": 25,
   "metadata": {},
   "outputs": [],
   "source": [
    "train['FamilySize'] = train['SibSp'] + train['Parch'] + 1\n",
    "test['FamilySize'] = train['SibSp'] + train['Parch'] + 1\n",
    "train.drop(['SibSp'], axis=1, inplace=True)\n",
    "test.drop(['SibSp'], axis=1, inplace=True)\n",
    "train.drop(['Parch'], axis=1, inplace=True)\n",
    "test.drop(['Parch'], axis=1, inplace=True)"
   ]
  },
  {
   "cell_type": "code",
   "execution_count": 26,
   "metadata": {},
   "outputs": [
    {
     "data": {
      "text/plain": [
       "<matplotlib.axes._subplots.AxesSubplot at 0x1f7439a0978>"
      ]
     },
     "execution_count": 26,
     "metadata": {},
     "output_type": "execute_result"
    },
    {
     "data": {
      "image/png": "[encoded data removed]",
      "text/plain": [
       "<matplotlib.figure.Figure at 0x1f743a29748>"
      ]
     },
     "metadata": {},
     "output_type": "display_data"
    }
   ],
   "source": [
    "sns.barplot(y=train['Survived'], x=train['FamilySize'])"
   ]
  },
  {
   "cell_type": "markdown",
   "metadata": {},
   "source": [
    "# Combine FamilySize 8 + 11 because both have 0 change of surviving"
   ]
  },
  {
   "cell_type": "code",
   "execution_count": 27,
   "metadata": {},
   "outputs": [],
   "source": [
    "for i in range(len(train)):\n",
    "    if train.loc[i,'FamilySize'] == 11:\n",
    "        train.loc[i,'FamilySize'] = 8\n",
    "for i in range(len(test)):\n",
    "    if test.loc[i,'FamilySize'] == 11:\n",
    "        test.loc[i,'FamilySize'] = 8"
   ]
  },
  {
   "cell_type": "markdown",
   "metadata": {},
   "source": [
    "# Hot encode titles"
   ]
  },
  {
   "cell_type": "code",
   "execution_count": 28,
   "metadata": {},
   "outputs": [
    {
     "data": {
      "text/plain": [
       "array(['Master', 'Miss', 'Mr', 'Mrs', 'Officer', 'Royalty'], dtype=object)"
      ]
     },
     "execution_count": 28,
     "metadata": {},
     "output_type": "execute_result"
    }
   ],
   "source": [
    "enc_label = LabelEncoder()\n",
    "label_encoded = enc_label.fit_transform(train['Name'])\n",
    "enc_onehot = OneHotEncoder(sparse=False)\n",
    "hot_encoded = enc_onehot.fit_transform(label_encoded.reshape(-1, 1))\n",
    "enc_label.classes_"
   ]
  },
  {
   "cell_type": "code",
   "execution_count": 29,
   "metadata": {},
   "outputs": [],
   "source": [
    "train.drop(['Name'], axis=1, inplace=True)\n",
    "train['TitleMaster'] = hot_encoded[:,0]\n",
    "train['TitleMiss'] = hot_encoded[:,1]\n",
    "train['TitleMr'] = hot_encoded[:,2]\n",
    "train['TitleMrs'] = hot_encoded[:,3]\n",
    "train['TitleOfficer'] = hot_encoded[:,4]"
   ]
  },
  {
   "cell_type": "code",
   "execution_count": 30,
   "metadata": {},
   "outputs": [
    {
     "data": {
      "text/plain": [
       "array(['Master', 'Miss', 'Mr', 'Mrs', 'Officer', 'Royalty'], dtype=object)"
      ]
     },
     "execution_count": 30,
     "metadata": {},
     "output_type": "execute_result"
    }
   ],
   "source": [
    "label_encoded = enc_label.fit_transform(test['Name'])\n",
    "hot_encoded = enc_onehot.fit_transform(label_encoded.reshape(-1, 1))\n",
    "enc_label.classes_"
   ]
  },
  {
   "cell_type": "code",
   "execution_count": 31,
   "metadata": {},
   "outputs": [],
   "source": [
    "test.drop(['Name'], axis=1, inplace=True)\n",
    "test['TitleMaster'] = hot_encoded[:,0]\n",
    "test['TitleMiss'] = hot_encoded[:,1]\n",
    "test['TitleMr'] = hot_encoded[:,2]\n",
    "test['TitleMrs'] = hot_encoded[:,3]\n",
    "test['TitleOfficer'] = hot_encoded[:,4]"
   ]
  },
  {
   "cell_type": "markdown",
   "metadata": {},
   "source": [
    "# Hot encode class"
   ]
  },
  {
   "cell_type": "code",
   "execution_count": 32,
   "metadata": {},
   "outputs": [
    {
     "data": {
      "text/plain": [
       "array([1, 2, 3], dtype=int64)"
      ]
     },
     "execution_count": 32,
     "metadata": {},
     "output_type": "execute_result"
    }
   ],
   "source": [
    "label_encoded = enc_label.fit_transform(train['Pclass'])\n",
    "hot_encoded = enc_onehot.fit_transform(label_encoded.reshape(-1, 1))\n",
    "enc_label.classes_"
   ]
  },
  {
   "cell_type": "code",
   "execution_count": 33,
   "metadata": {},
   "outputs": [],
   "source": [
    "train.drop(['Pclass'], axis=1, inplace=True)\n",
    "train['Class1'] = hot_encoded[:,0]\n",
    "train['Class2'] = hot_encoded[:,1]\n",
    "train['Class3'] = hot_encoded[:,2]"
   ]
  },
  {
   "cell_type": "code",
   "execution_count": 34,
   "metadata": {},
   "outputs": [
    {
     "data": {
      "text/plain": [
       "array([1, 2, 3], dtype=int64)"
      ]
     },
     "execution_count": 34,
     "metadata": {},
     "output_type": "execute_result"
    }
   ],
   "source": [
    "label_encoded = enc_label.fit_transform(test['Pclass'])\n",
    "hot_encoded = enc_onehot.fit_transform(label_encoded.reshape(-1, 1))\n",
    "enc_label.classes_"
   ]
  },
  {
   "cell_type": "code",
   "execution_count": 35,
   "metadata": {},
   "outputs": [],
   "source": [
    "test.drop(['Pclass'], axis=1, inplace=True)\n",
    "test['Class1'] = hot_encoded[:,0]\n",
    "test['Class2'] = hot_encoded[:,1]\n",
    "test['Class3'] = hot_encoded[:,2]"
   ]
  },
  {
   "cell_type": "markdown",
   "metadata": {},
   "source": [
    "# Encode sex"
   ]
  },
  {
   "cell_type": "code",
   "execution_count": 36,
   "metadata": {},
   "outputs": [],
   "source": [
    "label_encoded = enc_label.fit_transform(train['Sex'])\n",
    "train['Sex'] = label_encoded"
   ]
  },
  {
   "cell_type": "code",
   "execution_count": 37,
   "metadata": {},
   "outputs": [],
   "source": [
    "label_encoded = enc_label.fit_transform(test['Sex'])\n",
    "test['Sex'] = label_encoded"
   ]
  },
  {
   "cell_type": "markdown",
   "metadata": {},
   "source": [
    "# Hot encode family size"
   ]
  },
  {
   "cell_type": "code",
   "execution_count": 38,
   "metadata": {},
   "outputs": [
    {
     "data": {
      "text/plain": [
       "array([1, 2, 3, 4, 5, 6, 7, 8], dtype=int64)"
      ]
     },
     "execution_count": 38,
     "metadata": {},
     "output_type": "execute_result"
    }
   ],
   "source": [
    "label_encoded = enc_label.fit_transform(train['FamilySize'])\n",
    "hot_encoded = enc_onehot.fit_transform(label_encoded.reshape(-1, 1))\n",
    "enc_label.classes_"
   ]
  },
  {
   "cell_type": "code",
   "execution_count": 39,
   "metadata": {},
   "outputs": [],
   "source": [
    "train.drop(['FamilySize'], axis=1, inplace=True)\n",
    "train['Family1'] = hot_encoded[:,0]\n",
    "train['Family2'] = hot_encoded[:,1]\n",
    "train['Family3'] = hot_encoded[:,2]\n",
    "train['Family4'] = hot_encoded[:,3]\n",
    "train['Family5'] = hot_encoded[:,4]\n",
    "train['Family6'] = hot_encoded[:,5]\n",
    "train['Family7'] = hot_encoded[:,6]\n",
    "train['Family8and11'] = hot_encoded[:,7]"
   ]
  },
  {
   "cell_type": "code",
   "execution_count": 40,
   "metadata": {},
   "outputs": [
    {
     "data": {
      "text/plain": [
       "array([1, 2, 3, 4, 5, 6, 7, 8], dtype=int64)"
      ]
     },
     "execution_count": 40,
     "metadata": {},
     "output_type": "execute_result"
    }
   ],
   "source": [
    "label_encoded = enc_label.fit_transform(test['FamilySize'])\n",
    "hot_encoded = enc_onehot.fit_transform(label_encoded.reshape(-1, 1))\n",
    "enc_label.classes_"
   ]
  },
  {
   "cell_type": "code",
   "execution_count": 41,
   "metadata": {},
   "outputs": [],
   "source": [
    "test.drop(['FamilySize'], axis=1, inplace=True)\n",
    "test['Family1'] = hot_encoded[:,0]\n",
    "test['Family2'] = hot_encoded[:,1]\n",
    "test['Family3'] = hot_encoded[:,2]\n",
    "test['Family4'] = hot_encoded[:,3]\n",
    "test['Family5'] = hot_encoded[:,4]\n",
    "test['Family6'] = hot_encoded[:,5]\n",
    "test['Family7'] = hot_encoded[:,6]\n",
    "test['Family8and11'] = hot_encoded[:,7]"
   ]
  },
  {
   "cell_type": "markdown",
   "metadata": {},
   "source": [
    "# Hot encode embarked"
   ]
  },
  {
   "cell_type": "code",
   "execution_count": 42,
   "metadata": {},
   "outputs": [
    {
     "data": {
      "text/plain": [
       "array(['C', 'Q', 'S'], dtype=object)"
      ]
     },
     "execution_count": 42,
     "metadata": {},
     "output_type": "execute_result"
    }
   ],
   "source": [
    "label_encoded = enc_label.fit_transform(train['Embarked'])\n",
    "hot_encoded = enc_onehot.fit_transform(label_encoded.reshape(-1, 1))\n",
    "enc_label.classes_"
   ]
  },
  {
   "cell_type": "code",
   "execution_count": 43,
   "metadata": {},
   "outputs": [],
   "source": [
    "train.drop(['Embarked'], axis=1, inplace=True)\n",
    "train['EmbarkedC'] = hot_encoded[:,0]\n",
    "train['EmbarkedQ'] = hot_encoded[:,1]\n",
    "train['EmbarkedS'] = hot_encoded[:,2]"
   ]
  },
  {
   "cell_type": "code",
   "execution_count": 44,
   "metadata": {},
   "outputs": [
    {
     "data": {
      "text/plain": [
       "array(['C', 'Q', 'S'], dtype=object)"
      ]
     },
     "execution_count": 44,
     "metadata": {},
     "output_type": "execute_result"
    }
   ],
   "source": [
    "label_encoded = enc_label.fit_transform(test['Embarked'])\n",
    "hot_encoded = enc_onehot.fit_transform(label_encoded.reshape(-1, 1))\n",
    "enc_label.classes_"
   ]
  },
  {
   "cell_type": "code",
   "execution_count": 45,
   "metadata": {},
   "outputs": [],
   "source": [
    "test.drop(['Embarked'], axis=1, inplace=True)\n",
    "test['EmbarkedC'] = hot_encoded[:,0]\n",
    "test['EmbarkedQ'] = hot_encoded[:,1]\n",
    "test['EmbarkedS'] = hot_encoded[:,2]"
   ]
  },
  {
   "cell_type": "markdown",
   "metadata": {},
   "source": [
    "# Hot encode cabin"
   ]
  },
  {
   "cell_type": "raw",
   "metadata": {},
   "source": [
    "label_encoded = enc_label.fit_transform(train['Cabin'])\n",
    "hot_encoded = enc_onehot.fit_transform(label_encoded.reshape(-1, 1))\n",
    "enc_label.classes_"
   ]
  },
  {
   "cell_type": "raw",
   "metadata": {},
   "source": [
    "train.drop(['Cabin'], axis=1, inplace=True)\n",
    "train['CabinA'] = hot_encoded[:,0]\n",
    "train['CabinB'] = hot_encoded[:,1]\n",
    "train['CabinC'] = hot_encoded[:,2]\n",
    "train['CabinD'] = hot_encoded[:,3]\n",
    "train['CabinE'] = hot_encoded[:,4]\n",
    "train['CabinF'] = hot_encoded[:,5]\n",
    "train['CabinG'] = hot_encoded[:,6]\n",
    "train['CabinT'] = hot_encoded[:,7]\n",
    "train['CabinU'] = hot_encoded[:,8]"
   ]
  },
  {
   "cell_type": "raw",
   "metadata": {},
   "source": [
    "label_encoded = enc_label.fit_transform(test['Cabin'])\n",
    "hot_encoded = enc_onehot.fit_transform(label_encoded.reshape(-1, 1))\n",
    "enc_label.classes_"
   ]
  },
  {
   "cell_type": "raw",
   "metadata": {},
   "source": [
    "test.drop(['Cabin'], axis=1, inplace=True)\n",
    "test['CabinA'] = hot_encoded[:,0]\n",
    "test['CabinB'] = hot_encoded[:,1]\n",
    "test['CabinC'] = hot_encoded[:,2]\n",
    "test['CabinD'] = hot_encoded[:,3]\n",
    "test['CabinE'] = hot_encoded[:,4]\n",
    "test['CabinF'] = hot_encoded[:,5]\n",
    "test['CabinG'] = hot_encoded[:,6]\n",
    "test['CabinT'] = np.zeros(len(test))\n",
    "test['CabinU'] = hot_encoded[:,7]"
   ]
  },
  {
   "cell_type": "markdown",
   "metadata": {},
   "source": [
    "# Model training"
   ]
  },
  {
   "cell_type": "code",
   "execution_count": 46,
   "metadata": {},
   "outputs": [],
   "source": [
    "from sklearn.model_selection import train_test_split\n",
    "from sklearn.preprocessing import StandardScaler\n",
    "std_scale = StandardScaler()\n",
    "train[['Age', 'Fare']] = std_scale.fit_transform(train[['Age', 'Fare']])\n",
    "test[['Age', 'Fare']] = std_scale.transform(test[['Age', 'Fare']])\n",
    "x_train = train.drop(['Survived'], axis=1)\n",
    "y_train = train['Survived']\n",
    "\n",
    "x_train_train, x_valid, y_train_train, y_valid = train_test_split(x_train, y_train, test_size=0.2, random_state=42)"
   ]
  },
  {
   "cell_type": "code",
   "execution_count": 47,
   "metadata": {},
   "outputs": [],
   "source": [
    "scores = {}"
   ]
  },
  {
   "cell_type": "code",
   "execution_count": 48,
   "metadata": {},
   "outputs": [
    {
     "name": "stdout",
     "output_type": "stream",
     "text": [
      "LogisticRegressionCV running\n"
     ]
    }
   ],
   "source": [
    "from sklearn.linear_model import LogisticRegressionCV\n",
    "from sklearn.metrics import f1_score\n",
    "\n",
    "print('LogisticRegressionCV running')\n",
    "clf = LogisticRegressionCV()\n",
    "clf.fit(x_train_train, y_train_train)\n",
    "valid_pred = clf.predict(x_valid)\n",
    "scores[clf] = f1_score(y_valid, valid_pred)"
   ]
  },
  {
   "cell_type": "code",
   "execution_count": 49,
   "metadata": {},
   "outputs": [
    {
     "name": "stdout",
     "output_type": "stream",
     "text": [
      "SVC running\n"
     ]
    }
   ],
   "source": [
    "from sklearn.svm import SVC\n",
    "from sklearn.model_selection import GridSearchCV\n",
    "\n",
    "print('SVC running')\n",
    "svc = SVC(random_state=42)\n",
    "parameters = {'kernel':('linear', 'rbf'), \n",
    "              'C':[0.05,0.1,0.2,0.3,0.25,0.4,0.5,0.6,0.7,0.8,0.9,1,10,50,100,200,300,1000], \n",
    "              'gamma': [0.001,0.01,0.1,0.2,0.3,0.4,0.5,0.6,0.7,0.8,0.9,1.0]}\n",
    "clf = GridSearchCV(svc, parameters)\n",
    "clf.fit(x_train_train, y_train_train)\n",
    "clf = SVC(**clf.best_params_)\n",
    "clf.fit(x_train_train, y_train_train)\n",
    "valid_pred = clf.predict(x_valid)\n",
    "scores[clf] = f1_score(y_valid, valid_pred)"
   ]
  },
  {
   "cell_type": "code",
   "execution_count": 50,
   "metadata": {},
   "outputs": [
    {
     "name": "stdout",
     "output_type": "stream",
     "text": [
      "SGDClassifier running\n"
     ]
    }
   ],
   "source": [
    "from sklearn.linear_model import SGDClassifier\n",
    "\n",
    "print('SGDClassifier running')\n",
    "sgd = SGDClassifier(max_iter=1000, random_state=42)\n",
    "parameters = {'l1_ratio':np.arange(0, 1, 0.01).tolist()}\n",
    "clf = GridSearchCV(sgd, parameters)\n",
    "clf.fit(x_train_train, y_train_train)\n",
    "clf = SGDClassifier(max_iter=1000, **clf.best_params_)\n",
    "clf.fit(x_train_train, y_train_train)\n",
    "valid_pred = clf.predict(x_valid)\n",
    "scores[clf] = f1_score(y_valid, valid_pred)"
   ]
  },
  {
   "cell_type": "code",
   "execution_count": 51,
   "metadata": {},
   "outputs": [
    {
     "name": "stdout",
     "output_type": "stream",
     "text": [
      "KNeighborsClassifier running\n"
     ]
    }
   ],
   "source": [
    "from sklearn.neighbors import KNeighborsClassifier\n",
    "\n",
    "print('KNeighborsClassifier running')\n",
    "knn = KNeighborsClassifier()\n",
    "parameters = {'n_neighbors':np.arange(1, 51, 1).tolist(), 'weights':('distance', 'uniform')}\n",
    "clf = GridSearchCV(knn, parameters)\n",
    "clf.fit(x_train_train, y_train_train)\n",
    "clf = KNeighborsClassifier(**clf.best_params_)\n",
    "clf.fit(x_train_train, y_train_train)\n",
    "valid_pred = clf.predict(x_valid)\n",
    "scores[clf] = f1_score(y_valid, valid_pred)"
   ]
  },
  {
   "cell_type": "code",
   "execution_count": 52,
   "metadata": {},
   "outputs": [
    {
     "name": "stdout",
     "output_type": "stream",
     "text": [
      "GaussianProcessClassifier running\n"
     ]
    }
   ],
   "source": [
    "from sklearn.gaussian_process import GaussianProcessClassifier\n",
    "\n",
    "print('GaussianProcessClassifier running')\n",
    "clf = GaussianProcessClassifier()\n",
    "clf.fit(x_train_train, y_train_train)\n",
    "valid_pred = clf.predict(x_valid)\n",
    "scores[clf] = f1_score(y_valid, valid_pred)"
   ]
  },
  {
   "cell_type": "code",
   "execution_count": 53,
   "metadata": {},
   "outputs": [
    {
     "name": "stdout",
     "output_type": "stream",
     "text": [
      "DecisionTreeClassifier running\n"
     ]
    }
   ],
   "source": [
    "from sklearn.tree import DecisionTreeClassifier\n",
    "\n",
    "print('DecisionTreeClassifier running')\n",
    "dtc = DecisionTreeClassifier(random_state=42)\n",
    "parameters = {'criterion':('entropy', 'gini'), 'splitter':('best', 'random')}\n",
    "clf = GridSearchCV(dtc, parameters)\n",
    "clf.fit(x_train_train, y_train_train)\n",
    "clf = DecisionTreeClassifier(**clf.best_params_)\n",
    "clf.fit(x_train_train, y_train_train)\n",
    "valid_pred = clf.predict(x_valid)\n",
    "scores[clf] = f1_score(y_valid, valid_pred)"
   ]
  },
  {
   "cell_type": "code",
   "execution_count": 54,
   "metadata": {},
   "outputs": [
    {
     "name": "stdout",
     "output_type": "stream",
     "text": [
      "RandomForestClassifier running\n"
     ]
    }
   ],
   "source": [
    "from sklearn.ensemble import RandomForestClassifier\n",
    "\n",
    "print('RandomForestClassifier running')\n",
    "rfc = RandomForestClassifier(random_state=42)\n",
    "rf_param_grid = {'max_depth': [4, 6, 8],\n",
    "                 'max_features': ['sqrt', 'auto', 'log2'],\n",
    "                 'min_samples_split': [1.0, 3, 10],\n",
    "                 'min_samples_leaf': [1, 3, 10],\n",
    "                 'bootstrap': [True, False],\n",
    "                 'n_estimators': [10, 50],\n",
    "                 'criterion': ['gini']}\n",
    "clf = GridSearchCV(rfc, rf_param_grid)\n",
    "clf.fit(x_train_train, y_train_train)\n",
    "clf = RandomForestClassifier(**clf.best_params_)\n",
    "clf.fit(x_train_train, y_train_train)\n",
    "valid_pred = clf.predict(x_valid)\n",
    "scores[clf] = f1_score(y_valid, valid_pred)"
   ]
  },
  {
   "cell_type": "code",
   "execution_count": 55,
   "metadata": {},
   "outputs": [
    {
     "name": "stdout",
     "output_type": "stream",
     "text": [
      "AdaBoostClassifier running\n"
     ]
    }
   ],
   "source": [
    "from sklearn.ensemble import AdaBoostClassifier\n",
    "\n",
    "print('AdaBoostClassifier running')\n",
    "DTC = DecisionTreeClassifier()\n",
    "clf=AdaBoostClassifier(DTC,random_state=42)\n",
    "ada_param_grid = {'algorithm': ['SAMME', 'SAMME.R'],\n",
    "                  'n_estimators': [1,2],\n",
    "                  'learning_rate': [0.0001, 0.001, 0.01, 0.1, 0.2, 0.3,1.5]}\n",
    "clf = GridSearchCV(clf, ada_param_grid)\n",
    "clf.fit(x_train_train, y_train_train)\n",
    "clf = AdaBoostClassifier(**clf.best_params_)\n",
    "clf.fit(x_train_train, y_train_train)\n",
    "valid_pred = clf.predict(x_valid)\n",
    "scores[clf] = f1_score(y_valid, valid_pred)"
   ]
  },
  {
   "cell_type": "code",
   "execution_count": 56,
   "metadata": {},
   "outputs": [
    {
     "name": "stdout",
     "output_type": "stream",
     "text": [
      "GradientBoostingClassifier running\n"
     ]
    }
   ],
   "source": [
    "from sklearn.ensemble import GradientBoostingClassifier\n",
    "\n",
    "print('GradientBoostingClassifier running')\n",
    "clf=GradientBoostingClassifier(random_state=42)\n",
    "gb_param_grid = {'loss': ['deviance'],\n",
    "                 'n_estimators': [100,200,300],\n",
    "                 'learning_rate': [0.1, 0.05, 0.01],\n",
    "                 'max_depth': [4, 8],\n",
    "                 'min_samples_leaf': [100,150],\n",
    "                 'max_features': [0.3, 0.1]}\n",
    "clf = GridSearchCV(clf, gb_param_grid)\n",
    "clf.fit(x_train_train, y_train_train)\n",
    "clf = GradientBoostingClassifier(**clf.best_params_)\n",
    "clf.fit(x_train_train, y_train_train)\n",
    "valid_pred = clf.predict(x_valid)\n",
    "scores[clf] = f1_score(y_valid, valid_pred)"
   ]
  },
  {
   "cell_type": "code",
   "execution_count": 57,
   "metadata": {},
   "outputs": [
    {
     "name": "stdout",
     "output_type": "stream",
     "text": [
      "dict_values([0.76190476190476197, 0.77777777777777779, 0.77777777777777779, 0.74452554744525545, 0.76258992805755399, 0.76190476190476197, 0.74820143884892076, 0.72727272727272729, 0.73611111111111105])\n"
     ]
    }
   ],
   "source": [
    "print(scores.values())"
   ]
  },
  {
   "cell_type": "code",
   "execution_count": 58,
   "metadata": {},
   "outputs": [],
   "source": [
    "clf = sorted(scores, key=scores.get, reverse=True)[0]\n",
    "clf.fit(x_train, y_train)\n",
    "test_pred = clf.predict(test)\n",
    "submission = pd.read_csv('gender_submission.csv')\n",
    "submission['Survived'] = test_pred\n",
    "submission.to_csv('submission_bestalgo.csv', index=False)"
   ]
  }
 ],
 "metadata": {
  "kernelspec": {
   "display_name": "Python 3",
   "language": "python",
   "name": "python3"
  },
  "language_info": {
   "codemirror_mode": {
    "name": "ipython",
    "version": 3
   },
   "file_extension": ".py",
   "mimetype": "text/x-python",
   "name": "python",
   "nbconvert_exporter": "python",
   "pygments_lexer": "ipython3",
   "version": "3.6.3"
  }
 },
 "nbformat": 4,
 "nbformat_minor": 2
}
